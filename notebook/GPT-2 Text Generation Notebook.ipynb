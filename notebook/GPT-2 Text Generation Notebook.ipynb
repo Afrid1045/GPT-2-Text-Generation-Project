{
  "nbformat": 4,
  "nbformat_minor": 0,
  "metadata": {
    "colab": {
      "provenance": [],
      "gpuType": "T4"
    },
    "kernelspec": {
      "name": "python3",
      "display_name": "Python 3"
    },
    "language_info": {
      "name": "python"
    },
    "accelerator": "GPU",
    "widgets": {
      "application/vnd.jupyter.widget-state+json": {
        "b60a7abf803846bab1de1af64d65fc6a": {
          "model_module": "@jupyter-widgets/controls",
          "model_name": "HBoxModel",
          "model_module_version": "1.5.0",
          "state": {
            "_dom_classes": [],
            "_model_module": "@jupyter-widgets/controls",
            "_model_module_version": "1.5.0",
            "_model_name": "HBoxModel",
            "_view_count": null,
            "_view_module": "@jupyter-widgets/controls",
            "_view_module_version": "1.5.0",
            "_view_name": "HBoxView",
            "box_style": "",
            "children": [
              "IPY_MODEL_90a4b8b78649475b824373ee37e6d963",
              "IPY_MODEL_9e82bc14ed7247cab5bfec5e16290321",
              "IPY_MODEL_3a8477869a4e426a8c5a7c225e663523"
            ],
            "layout": "IPY_MODEL_e30211b8e41a4baea5fa9ae879da91ef"
          }
        },
        "90a4b8b78649475b824373ee37e6d963": {
          "model_module": "@jupyter-widgets/controls",
          "model_name": "HTMLModel",
          "model_module_version": "1.5.0",
          "state": {
            "_dom_classes": [],
            "_model_module": "@jupyter-widgets/controls",
            "_model_module_version": "1.5.0",
            "_model_name": "HTMLModel",
            "_view_count": null,
            "_view_module": "@jupyter-widgets/controls",
            "_view_module_version": "1.5.0",
            "_view_name": "HTMLView",
            "description": "",
            "description_tooltip": null,
            "layout": "IPY_MODEL_f76d94e0fd3b44c1ba7cb1dd81529598",
            "placeholder": "​",
            "style": "IPY_MODEL_e8572c4439b04d6fa4a980be1e5be717",
            "value": "tokenizer_config.json: 100%"
          }
        },
        "9e82bc14ed7247cab5bfec5e16290321": {
          "model_module": "@jupyter-widgets/controls",
          "model_name": "FloatProgressModel",
          "model_module_version": "1.5.0",
          "state": {
            "_dom_classes": [],
            "_model_module": "@jupyter-widgets/controls",
            "_model_module_version": "1.5.0",
            "_model_name": "FloatProgressModel",
            "_view_count": null,
            "_view_module": "@jupyter-widgets/controls",
            "_view_module_version": "1.5.0",
            "_view_name": "ProgressView",
            "bar_style": "success",
            "description": "",
            "description_tooltip": null,
            "layout": "IPY_MODEL_46568b4accc44bbf9f1444584aab5326",
            "max": 26,
            "min": 0,
            "orientation": "horizontal",
            "style": "IPY_MODEL_718cfc6b850e4e7a8498657e8b8be607",
            "value": 26
          }
        },
        "3a8477869a4e426a8c5a7c225e663523": {
          "model_module": "@jupyter-widgets/controls",
          "model_name": "HTMLModel",
          "model_module_version": "1.5.0",
          "state": {
            "_dom_classes": [],
            "_model_module": "@jupyter-widgets/controls",
            "_model_module_version": "1.5.0",
            "_model_name": "HTMLModel",
            "_view_count": null,
            "_view_module": "@jupyter-widgets/controls",
            "_view_module_version": "1.5.0",
            "_view_name": "HTMLView",
            "description": "",
            "description_tooltip": null,
            "layout": "IPY_MODEL_07901cdce70a41218906b9d704509f04",
            "placeholder": "​",
            "style": "IPY_MODEL_dbfa07dc0b844ef39067866a6c97e88e",
            "value": " 26.0/26.0 [00:00&lt;00:00, 2.62kB/s]"
          }
        },
        "e30211b8e41a4baea5fa9ae879da91ef": {
          "model_module": "@jupyter-widgets/base",
          "model_name": "LayoutModel",
          "model_module_version": "1.2.0",
          "state": {
            "_model_module": "@jupyter-widgets/base",
            "_model_module_version": "1.2.0",
            "_model_name": "LayoutModel",
            "_view_count": null,
            "_view_module": "@jupyter-widgets/base",
            "_view_module_version": "1.2.0",
            "_view_name": "LayoutView",
            "align_content": null,
            "align_items": null,
            "align_self": null,
            "border": null,
            "bottom": null,
            "display": null,
            "flex": null,
            "flex_flow": null,
            "grid_area": null,
            "grid_auto_columns": null,
            "grid_auto_flow": null,
            "grid_auto_rows": null,
            "grid_column": null,
            "grid_gap": null,
            "grid_row": null,
            "grid_template_areas": null,
            "grid_template_columns": null,
            "grid_template_rows": null,
            "height": null,
            "justify_content": null,
            "justify_items": null,
            "left": null,
            "margin": null,
            "max_height": null,
            "max_width": null,
            "min_height": null,
            "min_width": null,
            "object_fit": null,
            "object_position": null,
            "order": null,
            "overflow": null,
            "overflow_x": null,
            "overflow_y": null,
            "padding": null,
            "right": null,
            "top": null,
            "visibility": null,
            "width": null
          }
        },
        "f76d94e0fd3b44c1ba7cb1dd81529598": {
          "model_module": "@jupyter-widgets/base",
          "model_name": "LayoutModel",
          "model_module_version": "1.2.0",
          "state": {
            "_model_module": "@jupyter-widgets/base",
            "_model_module_version": "1.2.0",
            "_model_name": "LayoutModel",
            "_view_count": null,
            "_view_module": "@jupyter-widgets/base",
            "_view_module_version": "1.2.0",
            "_view_name": "LayoutView",
            "align_content": null,
            "align_items": null,
            "align_self": null,
            "border": null,
            "bottom": null,
            "display": null,
            "flex": null,
            "flex_flow": null,
            "grid_area": null,
            "grid_auto_columns": null,
            "grid_auto_flow": null,
            "grid_auto_rows": null,
            "grid_column": null,
            "grid_gap": null,
            "grid_row": null,
            "grid_template_areas": null,
            "grid_template_columns": null,
            "grid_template_rows": null,
            "height": null,
            "justify_content": null,
            "justify_items": null,
            "left": null,
            "margin": null,
            "max_height": null,
            "max_width": null,
            "min_height": null,
            "min_width": null,
            "object_fit": null,
            "object_position": null,
            "order": null,
            "overflow": null,
            "overflow_x": null,
            "overflow_y": null,
            "padding": null,
            "right": null,
            "top": null,
            "visibility": null,
            "width": null
          }
        },
        "e8572c4439b04d6fa4a980be1e5be717": {
          "model_module": "@jupyter-widgets/controls",
          "model_name": "DescriptionStyleModel",
          "model_module_version": "1.5.0",
          "state": {
            "_model_module": "@jupyter-widgets/controls",
            "_model_module_version": "1.5.0",
            "_model_name": "DescriptionStyleModel",
            "_view_count": null,
            "_view_module": "@jupyter-widgets/base",
            "_view_module_version": "1.2.0",
            "_view_name": "StyleView",
            "description_width": ""
          }
        },
        "46568b4accc44bbf9f1444584aab5326": {
          "model_module": "@jupyter-widgets/base",
          "model_name": "LayoutModel",
          "model_module_version": "1.2.0",
          "state": {
            "_model_module": "@jupyter-widgets/base",
            "_model_module_version": "1.2.0",
            "_model_name": "LayoutModel",
            "_view_count": null,
            "_view_module": "@jupyter-widgets/base",
            "_view_module_version": "1.2.0",
            "_view_name": "LayoutView",
            "align_content": null,
            "align_items": null,
            "align_self": null,
            "border": null,
            "bottom": null,
            "display": null,
            "flex": null,
            "flex_flow": null,
            "grid_area": null,
            "grid_auto_columns": null,
            "grid_auto_flow": null,
            "grid_auto_rows": null,
            "grid_column": null,
            "grid_gap": null,
            "grid_row": null,
            "grid_template_areas": null,
            "grid_template_columns": null,
            "grid_template_rows": null,
            "height": null,
            "justify_content": null,
            "justify_items": null,
            "left": null,
            "margin": null,
            "max_height": null,
            "max_width": null,
            "min_height": null,
            "min_width": null,
            "object_fit": null,
            "object_position": null,
            "order": null,
            "overflow": null,
            "overflow_x": null,
            "overflow_y": null,
            "padding": null,
            "right": null,
            "top": null,
            "visibility": null,
            "width": null
          }
        },
        "718cfc6b850e4e7a8498657e8b8be607": {
          "model_module": "@jupyter-widgets/controls",
          "model_name": "ProgressStyleModel",
          "model_module_version": "1.5.0",
          "state": {
            "_model_module": "@jupyter-widgets/controls",
            "_model_module_version": "1.5.0",
            "_model_name": "ProgressStyleModel",
            "_view_count": null,
            "_view_module": "@jupyter-widgets/base",
            "_view_module_version": "1.2.0",
            "_view_name": "StyleView",
            "bar_color": null,
            "description_width": ""
          }
        },
        "07901cdce70a41218906b9d704509f04": {
          "model_module": "@jupyter-widgets/base",
          "model_name": "LayoutModel",
          "model_module_version": "1.2.0",
          "state": {
            "_model_module": "@jupyter-widgets/base",
            "_model_module_version": "1.2.0",
            "_model_name": "LayoutModel",
            "_view_count": null,
            "_view_module": "@jupyter-widgets/base",
            "_view_module_version": "1.2.0",
            "_view_name": "LayoutView",
            "align_content": null,
            "align_items": null,
            "align_self": null,
            "border": null,
            "bottom": null,
            "display": null,
            "flex": null,
            "flex_flow": null,
            "grid_area": null,
            "grid_auto_columns": null,
            "grid_auto_flow": null,
            "grid_auto_rows": null,
            "grid_column": null,
            "grid_gap": null,
            "grid_row": null,
            "grid_template_areas": null,
            "grid_template_columns": null,
            "grid_template_rows": null,
            "height": null,
            "justify_content": null,
            "justify_items": null,
            "left": null,
            "margin": null,
            "max_height": null,
            "max_width": null,
            "min_height": null,
            "min_width": null,
            "object_fit": null,
            "object_position": null,
            "order": null,
            "overflow": null,
            "overflow_x": null,
            "overflow_y": null,
            "padding": null,
            "right": null,
            "top": null,
            "visibility": null,
            "width": null
          }
        },
        "dbfa07dc0b844ef39067866a6c97e88e": {
          "model_module": "@jupyter-widgets/controls",
          "model_name": "DescriptionStyleModel",
          "model_module_version": "1.5.0",
          "state": {
            "_model_module": "@jupyter-widgets/controls",
            "_model_module_version": "1.5.0",
            "_model_name": "DescriptionStyleModel",
            "_view_count": null,
            "_view_module": "@jupyter-widgets/base",
            "_view_module_version": "1.2.0",
            "_view_name": "StyleView",
            "description_width": ""
          }
        },
        "31b7ab3f4af8489f9cafe23176b4db7b": {
          "model_module": "@jupyter-widgets/controls",
          "model_name": "HBoxModel",
          "model_module_version": "1.5.0",
          "state": {
            "_dom_classes": [],
            "_model_module": "@jupyter-widgets/controls",
            "_model_module_version": "1.5.0",
            "_model_name": "HBoxModel",
            "_view_count": null,
            "_view_module": "@jupyter-widgets/controls",
            "_view_module_version": "1.5.0",
            "_view_name": "HBoxView",
            "box_style": "",
            "children": [
              "IPY_MODEL_c6bd2928bb4c4cc08ff1a17036245772",
              "IPY_MODEL_c440208d70824702b54e23ae6cff7c36",
              "IPY_MODEL_2afb493ea8fc48c6891484e477fd0aa7"
            ],
            "layout": "IPY_MODEL_9541d81c707b47d18e194bb99d4b150c"
          }
        },
        "c6bd2928bb4c4cc08ff1a17036245772": {
          "model_module": "@jupyter-widgets/controls",
          "model_name": "HTMLModel",
          "model_module_version": "1.5.0",
          "state": {
            "_dom_classes": [],
            "_model_module": "@jupyter-widgets/controls",
            "_model_module_version": "1.5.0",
            "_model_name": "HTMLModel",
            "_view_count": null,
            "_view_module": "@jupyter-widgets/controls",
            "_view_module_version": "1.5.0",
            "_view_name": "HTMLView",
            "description": "",
            "description_tooltip": null,
            "layout": "IPY_MODEL_9801f25420a849a7a54f7bbfc27f4693",
            "placeholder": "​",
            "style": "IPY_MODEL_32ca60d4b15f4e5c8c16d5364936bc81",
            "value": "vocab.json: 100%"
          }
        },
        "c440208d70824702b54e23ae6cff7c36": {
          "model_module": "@jupyter-widgets/controls",
          "model_name": "FloatProgressModel",
          "model_module_version": "1.5.0",
          "state": {
            "_dom_classes": [],
            "_model_module": "@jupyter-widgets/controls",
            "_model_module_version": "1.5.0",
            "_model_name": "FloatProgressModel",
            "_view_count": null,
            "_view_module": "@jupyter-widgets/controls",
            "_view_module_version": "1.5.0",
            "_view_name": "ProgressView",
            "bar_style": "success",
            "description": "",
            "description_tooltip": null,
            "layout": "IPY_MODEL_9da57823bedc41388865243217b1e53c",
            "max": 1042301,
            "min": 0,
            "orientation": "horizontal",
            "style": "IPY_MODEL_be3dfad80a3c47848922e29299e282db",
            "value": 1042301
          }
        },
        "2afb493ea8fc48c6891484e477fd0aa7": {
          "model_module": "@jupyter-widgets/controls",
          "model_name": "HTMLModel",
          "model_module_version": "1.5.0",
          "state": {
            "_dom_classes": [],
            "_model_module": "@jupyter-widgets/controls",
            "_model_module_version": "1.5.0",
            "_model_name": "HTMLModel",
            "_view_count": null,
            "_view_module": "@jupyter-widgets/controls",
            "_view_module_version": "1.5.0",
            "_view_name": "HTMLView",
            "description": "",
            "description_tooltip": null,
            "layout": "IPY_MODEL_e4eac66b76d743028b8a54e726efde59",
            "placeholder": "​",
            "style": "IPY_MODEL_db525292329943f6bf94b36a19b2ac5e",
            "value": " 1.04M/1.04M [00:00&lt;00:00, 21.6MB/s]"
          }
        },
        "9541d81c707b47d18e194bb99d4b150c": {
          "model_module": "@jupyter-widgets/base",
          "model_name": "LayoutModel",
          "model_module_version": "1.2.0",
          "state": {
            "_model_module": "@jupyter-widgets/base",
            "_model_module_version": "1.2.0",
            "_model_name": "LayoutModel",
            "_view_count": null,
            "_view_module": "@jupyter-widgets/base",
            "_view_module_version": "1.2.0",
            "_view_name": "LayoutView",
            "align_content": null,
            "align_items": null,
            "align_self": null,
            "border": null,
            "bottom": null,
            "display": null,
            "flex": null,
            "flex_flow": null,
            "grid_area": null,
            "grid_auto_columns": null,
            "grid_auto_flow": null,
            "grid_auto_rows": null,
            "grid_column": null,
            "grid_gap": null,
            "grid_row": null,
            "grid_template_areas": null,
            "grid_template_columns": null,
            "grid_template_rows": null,
            "height": null,
            "justify_content": null,
            "justify_items": null,
            "left": null,
            "margin": null,
            "max_height": null,
            "max_width": null,
            "min_height": null,
            "min_width": null,
            "object_fit": null,
            "object_position": null,
            "order": null,
            "overflow": null,
            "overflow_x": null,
            "overflow_y": null,
            "padding": null,
            "right": null,
            "top": null,
            "visibility": null,
            "width": null
          }
        },
        "9801f25420a849a7a54f7bbfc27f4693": {
          "model_module": "@jupyter-widgets/base",
          "model_name": "LayoutModel",
          "model_module_version": "1.2.0",
          "state": {
            "_model_module": "@jupyter-widgets/base",
            "_model_module_version": "1.2.0",
            "_model_name": "LayoutModel",
            "_view_count": null,
            "_view_module": "@jupyter-widgets/base",
            "_view_module_version": "1.2.0",
            "_view_name": "LayoutView",
            "align_content": null,
            "align_items": null,
            "align_self": null,
            "border": null,
            "bottom": null,
            "display": null,
            "flex": null,
            "flex_flow": null,
            "grid_area": null,
            "grid_auto_columns": null,
            "grid_auto_flow": null,
            "grid_auto_rows": null,
            "grid_column": null,
            "grid_gap": null,
            "grid_row": null,
            "grid_template_areas": null,
            "grid_template_columns": null,
            "grid_template_rows": null,
            "height": null,
            "justify_content": null,
            "justify_items": null,
            "left": null,
            "margin": null,
            "max_height": null,
            "max_width": null,
            "min_height": null,
            "min_width": null,
            "object_fit": null,
            "object_position": null,
            "order": null,
            "overflow": null,
            "overflow_x": null,
            "overflow_y": null,
            "padding": null,
            "right": null,
            "top": null,
            "visibility": null,
            "width": null
          }
        },
        "32ca60d4b15f4e5c8c16d5364936bc81": {
          "model_module": "@jupyter-widgets/controls",
          "model_name": "DescriptionStyleModel",
          "model_module_version": "1.5.0",
          "state": {
            "_model_module": "@jupyter-widgets/controls",
            "_model_module_version": "1.5.0",
            "_model_name": "DescriptionStyleModel",
            "_view_count": null,
            "_view_module": "@jupyter-widgets/base",
            "_view_module_version": "1.2.0",
            "_view_name": "StyleView",
            "description_width": ""
          }
        },
        "9da57823bedc41388865243217b1e53c": {
          "model_module": "@jupyter-widgets/base",
          "model_name": "LayoutModel",
          "model_module_version": "1.2.0",
          "state": {
            "_model_module": "@jupyter-widgets/base",
            "_model_module_version": "1.2.0",
            "_model_name": "LayoutModel",
            "_view_count": null,
            "_view_module": "@jupyter-widgets/base",
            "_view_module_version": "1.2.0",
            "_view_name": "LayoutView",
            "align_content": null,
            "align_items": null,
            "align_self": null,
            "border": null,
            "bottom": null,
            "display": null,
            "flex": null,
            "flex_flow": null,
            "grid_area": null,
            "grid_auto_columns": null,
            "grid_auto_flow": null,
            "grid_auto_rows": null,
            "grid_column": null,
            "grid_gap": null,
            "grid_row": null,
            "grid_template_areas": null,
            "grid_template_columns": null,
            "grid_template_rows": null,
            "height": null,
            "justify_content": null,
            "justify_items": null,
            "left": null,
            "margin": null,
            "max_height": null,
            "max_width": null,
            "min_height": null,
            "min_width": null,
            "object_fit": null,
            "object_position": null,
            "order": null,
            "overflow": null,
            "overflow_x": null,
            "overflow_y": null,
            "padding": null,
            "right": null,
            "top": null,
            "visibility": null,
            "width": null
          }
        },
        "be3dfad80a3c47848922e29299e282db": {
          "model_module": "@jupyter-widgets/controls",
          "model_name": "ProgressStyleModel",
          "model_module_version": "1.5.0",
          "state": {
            "_model_module": "@jupyter-widgets/controls",
            "_model_module_version": "1.5.0",
            "_model_name": "ProgressStyleModel",
            "_view_count": null,
            "_view_module": "@jupyter-widgets/base",
            "_view_module_version": "1.2.0",
            "_view_name": "StyleView",
            "bar_color": null,
            "description_width": ""
          }
        },
        "e4eac66b76d743028b8a54e726efde59": {
          "model_module": "@jupyter-widgets/base",
          "model_name": "LayoutModel",
          "model_module_version": "1.2.0",
          "state": {
            "_model_module": "@jupyter-widgets/base",
            "_model_module_version": "1.2.0",
            "_model_name": "LayoutModel",
            "_view_count": null,
            "_view_module": "@jupyter-widgets/base",
            "_view_module_version": "1.2.0",
            "_view_name": "LayoutView",
            "align_content": null,
            "align_items": null,
            "align_self": null,
            "border": null,
            "bottom": null,
            "display": null,
            "flex": null,
            "flex_flow": null,
            "grid_area": null,
            "grid_auto_columns": null,
            "grid_auto_flow": null,
            "grid_auto_rows": null,
            "grid_column": null,
            "grid_gap": null,
            "grid_row": null,
            "grid_template_areas": null,
            "grid_template_columns": null,
            "grid_template_rows": null,
            "height": null,
            "justify_content": null,
            "justify_items": null,
            "left": null,
            "margin": null,
            "max_height": null,
            "max_width": null,
            "min_height": null,
            "min_width": null,
            "object_fit": null,
            "object_position": null,
            "order": null,
            "overflow": null,
            "overflow_x": null,
            "overflow_y": null,
            "padding": null,
            "right": null,
            "top": null,
            "visibility": null,
            "width": null
          }
        },
        "db525292329943f6bf94b36a19b2ac5e": {
          "model_module": "@jupyter-widgets/controls",
          "model_name": "DescriptionStyleModel",
          "model_module_version": "1.5.0",
          "state": {
            "_model_module": "@jupyter-widgets/controls",
            "_model_module_version": "1.5.0",
            "_model_name": "DescriptionStyleModel",
            "_view_count": null,
            "_view_module": "@jupyter-widgets/base",
            "_view_module_version": "1.2.0",
            "_view_name": "StyleView",
            "description_width": ""
          }
        },
        "c38d660f1b7d474c8680e0e2bd9aa76d": {
          "model_module": "@jupyter-widgets/controls",
          "model_name": "HBoxModel",
          "model_module_version": "1.5.0",
          "state": {
            "_dom_classes": [],
            "_model_module": "@jupyter-widgets/controls",
            "_model_module_version": "1.5.0",
            "_model_name": "HBoxModel",
            "_view_count": null,
            "_view_module": "@jupyter-widgets/controls",
            "_view_module_version": "1.5.0",
            "_view_name": "HBoxView",
            "box_style": "",
            "children": [
              "IPY_MODEL_2e6e4c8a4b4840adbc33812de147d19a",
              "IPY_MODEL_a1a230b0de5d4361bbd94f1fa380f6e4",
              "IPY_MODEL_db28b79b51ef4fe8819b3708aef9b2d5"
            ],
            "layout": "IPY_MODEL_c5cb875e8a1344c18a49e6d25e85e2bc"
          }
        },
        "2e6e4c8a4b4840adbc33812de147d19a": {
          "model_module": "@jupyter-widgets/controls",
          "model_name": "HTMLModel",
          "model_module_version": "1.5.0",
          "state": {
            "_dom_classes": [],
            "_model_module": "@jupyter-widgets/controls",
            "_model_module_version": "1.5.0",
            "_model_name": "HTMLModel",
            "_view_count": null,
            "_view_module": "@jupyter-widgets/controls",
            "_view_module_version": "1.5.0",
            "_view_name": "HTMLView",
            "description": "",
            "description_tooltip": null,
            "layout": "IPY_MODEL_54b45517e967447594a6415a9e3b4971",
            "placeholder": "​",
            "style": "IPY_MODEL_7f87612e7ee149d68d8d110c39a74011",
            "value": "merges.txt: 100%"
          }
        },
        "a1a230b0de5d4361bbd94f1fa380f6e4": {
          "model_module": "@jupyter-widgets/controls",
          "model_name": "FloatProgressModel",
          "model_module_version": "1.5.0",
          "state": {
            "_dom_classes": [],
            "_model_module": "@jupyter-widgets/controls",
            "_model_module_version": "1.5.0",
            "_model_name": "FloatProgressModel",
            "_view_count": null,
            "_view_module": "@jupyter-widgets/controls",
            "_view_module_version": "1.5.0",
            "_view_name": "ProgressView",
            "bar_style": "success",
            "description": "",
            "description_tooltip": null,
            "layout": "IPY_MODEL_e917c4eef6a54875bc63516ed9fd8ca1",
            "max": 456318,
            "min": 0,
            "orientation": "horizontal",
            "style": "IPY_MODEL_6391738b62ca48df8c56817201139a85",
            "value": 456318
          }
        },
        "db28b79b51ef4fe8819b3708aef9b2d5": {
          "model_module": "@jupyter-widgets/controls",
          "model_name": "HTMLModel",
          "model_module_version": "1.5.0",
          "state": {
            "_dom_classes": [],
            "_model_module": "@jupyter-widgets/controls",
            "_model_module_version": "1.5.0",
            "_model_name": "HTMLModel",
            "_view_count": null,
            "_view_module": "@jupyter-widgets/controls",
            "_view_module_version": "1.5.0",
            "_view_name": "HTMLView",
            "description": "",
            "description_tooltip": null,
            "layout": "IPY_MODEL_f0c3a82acf3247feabaf77d6e8814d41",
            "placeholder": "​",
            "style": "IPY_MODEL_92440078a55045328787d2e1e7b9e87c",
            "value": " 456k/456k [00:00&lt;00:00, 40.4MB/s]"
          }
        },
        "c5cb875e8a1344c18a49e6d25e85e2bc": {
          "model_module": "@jupyter-widgets/base",
          "model_name": "LayoutModel",
          "model_module_version": "1.2.0",
          "state": {
            "_model_module": "@jupyter-widgets/base",
            "_model_module_version": "1.2.0",
            "_model_name": "LayoutModel",
            "_view_count": null,
            "_view_module": "@jupyter-widgets/base",
            "_view_module_version": "1.2.0",
            "_view_name": "LayoutView",
            "align_content": null,
            "align_items": null,
            "align_self": null,
            "border": null,
            "bottom": null,
            "display": null,
            "flex": null,
            "flex_flow": null,
            "grid_area": null,
            "grid_auto_columns": null,
            "grid_auto_flow": null,
            "grid_auto_rows": null,
            "grid_column": null,
            "grid_gap": null,
            "grid_row": null,
            "grid_template_areas": null,
            "grid_template_columns": null,
            "grid_template_rows": null,
            "height": null,
            "justify_content": null,
            "justify_items": null,
            "left": null,
            "margin": null,
            "max_height": null,
            "max_width": null,
            "min_height": null,
            "min_width": null,
            "object_fit": null,
            "object_position": null,
            "order": null,
            "overflow": null,
            "overflow_x": null,
            "overflow_y": null,
            "padding": null,
            "right": null,
            "top": null,
            "visibility": null,
            "width": null
          }
        },
        "54b45517e967447594a6415a9e3b4971": {
          "model_module": "@jupyter-widgets/base",
          "model_name": "LayoutModel",
          "model_module_version": "1.2.0",
          "state": {
            "_model_module": "@jupyter-widgets/base",
            "_model_module_version": "1.2.0",
            "_model_name": "LayoutModel",
            "_view_count": null,
            "_view_module": "@jupyter-widgets/base",
            "_view_module_version": "1.2.0",
            "_view_name": "LayoutView",
            "align_content": null,
            "align_items": null,
            "align_self": null,
            "border": null,
            "bottom": null,
            "display": null,
            "flex": null,
            "flex_flow": null,
            "grid_area": null,
            "grid_auto_columns": null,
            "grid_auto_flow": null,
            "grid_auto_rows": null,
            "grid_column": null,
            "grid_gap": null,
            "grid_row": null,
            "grid_template_areas": null,
            "grid_template_columns": null,
            "grid_template_rows": null,
            "height": null,
            "justify_content": null,
            "justify_items": null,
            "left": null,
            "margin": null,
            "max_height": null,
            "max_width": null,
            "min_height": null,
            "min_width": null,
            "object_fit": null,
            "object_position": null,
            "order": null,
            "overflow": null,
            "overflow_x": null,
            "overflow_y": null,
            "padding": null,
            "right": null,
            "top": null,
            "visibility": null,
            "width": null
          }
        },
        "7f87612e7ee149d68d8d110c39a74011": {
          "model_module": "@jupyter-widgets/controls",
          "model_name": "DescriptionStyleModel",
          "model_module_version": "1.5.0",
          "state": {
            "_model_module": "@jupyter-widgets/controls",
            "_model_module_version": "1.5.0",
            "_model_name": "DescriptionStyleModel",
            "_view_count": null,
            "_view_module": "@jupyter-widgets/base",
            "_view_module_version": "1.2.0",
            "_view_name": "StyleView",
            "description_width": ""
          }
        },
        "e917c4eef6a54875bc63516ed9fd8ca1": {
          "model_module": "@jupyter-widgets/base",
          "model_name": "LayoutModel",
          "model_module_version": "1.2.0",
          "state": {
            "_model_module": "@jupyter-widgets/base",
            "_model_module_version": "1.2.0",
            "_model_name": "LayoutModel",
            "_view_count": null,
            "_view_module": "@jupyter-widgets/base",
            "_view_module_version": "1.2.0",
            "_view_name": "LayoutView",
            "align_content": null,
            "align_items": null,
            "align_self": null,
            "border": null,
            "bottom": null,
            "display": null,
            "flex": null,
            "flex_flow": null,
            "grid_area": null,
            "grid_auto_columns": null,
            "grid_auto_flow": null,
            "grid_auto_rows": null,
            "grid_column": null,
            "grid_gap": null,
            "grid_row": null,
            "grid_template_areas": null,
            "grid_template_columns": null,
            "grid_template_rows": null,
            "height": null,
            "justify_content": null,
            "justify_items": null,
            "left": null,
            "margin": null,
            "max_height": null,
            "max_width": null,
            "min_height": null,
            "min_width": null,
            "object_fit": null,
            "object_position": null,
            "order": null,
            "overflow": null,
            "overflow_x": null,
            "overflow_y": null,
            "padding": null,
            "right": null,
            "top": null,
            "visibility": null,
            "width": null
          }
        },
        "6391738b62ca48df8c56817201139a85": {
          "model_module": "@jupyter-widgets/controls",
          "model_name": "ProgressStyleModel",
          "model_module_version": "1.5.0",
          "state": {
            "_model_module": "@jupyter-widgets/controls",
            "_model_module_version": "1.5.0",
            "_model_name": "ProgressStyleModel",
            "_view_count": null,
            "_view_module": "@jupyter-widgets/base",
            "_view_module_version": "1.2.0",
            "_view_name": "StyleView",
            "bar_color": null,
            "description_width": ""
          }
        },
        "f0c3a82acf3247feabaf77d6e8814d41": {
          "model_module": "@jupyter-widgets/base",
          "model_name": "LayoutModel",
          "model_module_version": "1.2.0",
          "state": {
            "_model_module": "@jupyter-widgets/base",
            "_model_module_version": "1.2.0",
            "_model_name": "LayoutModel",
            "_view_count": null,
            "_view_module": "@jupyter-widgets/base",
            "_view_module_version": "1.2.0",
            "_view_name": "LayoutView",
            "align_content": null,
            "align_items": null,
            "align_self": null,
            "border": null,
            "bottom": null,
            "display": null,
            "flex": null,
            "flex_flow": null,
            "grid_area": null,
            "grid_auto_columns": null,
            "grid_auto_flow": null,
            "grid_auto_rows": null,
            "grid_column": null,
            "grid_gap": null,
            "grid_row": null,
            "grid_template_areas": null,
            "grid_template_columns": null,
            "grid_template_rows": null,
            "height": null,
            "justify_content": null,
            "justify_items": null,
            "left": null,
            "margin": null,
            "max_height": null,
            "max_width": null,
            "min_height": null,
            "min_width": null,
            "object_fit": null,
            "object_position": null,
            "order": null,
            "overflow": null,
            "overflow_x": null,
            "overflow_y": null,
            "padding": null,
            "right": null,
            "top": null,
            "visibility": null,
            "width": null
          }
        },
        "92440078a55045328787d2e1e7b9e87c": {
          "model_module": "@jupyter-widgets/controls",
          "model_name": "DescriptionStyleModel",
          "model_module_version": "1.5.0",
          "state": {
            "_model_module": "@jupyter-widgets/controls",
            "_model_module_version": "1.5.0",
            "_model_name": "DescriptionStyleModel",
            "_view_count": null,
            "_view_module": "@jupyter-widgets/base",
            "_view_module_version": "1.2.0",
            "_view_name": "StyleView",
            "description_width": ""
          }
        },
        "19aab6cd2c2a49f7b723cf25ef4e60b1": {
          "model_module": "@jupyter-widgets/controls",
          "model_name": "HBoxModel",
          "model_module_version": "1.5.0",
          "state": {
            "_dom_classes": [],
            "_model_module": "@jupyter-widgets/controls",
            "_model_module_version": "1.5.0",
            "_model_name": "HBoxModel",
            "_view_count": null,
            "_view_module": "@jupyter-widgets/controls",
            "_view_module_version": "1.5.0",
            "_view_name": "HBoxView",
            "box_style": "",
            "children": [
              "IPY_MODEL_42dace7ed67a48a78b04ca122acc9b58",
              "IPY_MODEL_407e8d75af5749a0bab3d43652644dcc",
              "IPY_MODEL_e4148625a618444a8f2aa1546656572c"
            ],
            "layout": "IPY_MODEL_bf4e5f3297ee493fb846d4e1cce3702c"
          }
        },
        "42dace7ed67a48a78b04ca122acc9b58": {
          "model_module": "@jupyter-widgets/controls",
          "model_name": "HTMLModel",
          "model_module_version": "1.5.0",
          "state": {
            "_dom_classes": [],
            "_model_module": "@jupyter-widgets/controls",
            "_model_module_version": "1.5.0",
            "_model_name": "HTMLModel",
            "_view_count": null,
            "_view_module": "@jupyter-widgets/controls",
            "_view_module_version": "1.5.0",
            "_view_name": "HTMLView",
            "description": "",
            "description_tooltip": null,
            "layout": "IPY_MODEL_be02fbd0b2564a7bb7c058c478c2500e",
            "placeholder": "​",
            "style": "IPY_MODEL_46a050c799364dd590ba45eeb51b72d1",
            "value": "tokenizer.json: 100%"
          }
        },
        "407e8d75af5749a0bab3d43652644dcc": {
          "model_module": "@jupyter-widgets/controls",
          "model_name": "FloatProgressModel",
          "model_module_version": "1.5.0",
          "state": {
            "_dom_classes": [],
            "_model_module": "@jupyter-widgets/controls",
            "_model_module_version": "1.5.0",
            "_model_name": "FloatProgressModel",
            "_view_count": null,
            "_view_module": "@jupyter-widgets/controls",
            "_view_module_version": "1.5.0",
            "_view_name": "ProgressView",
            "bar_style": "success",
            "description": "",
            "description_tooltip": null,
            "layout": "IPY_MODEL_e2692bd5e66c41b4a19e698d272f9117",
            "max": 1355256,
            "min": 0,
            "orientation": "horizontal",
            "style": "IPY_MODEL_378f8833231343a7a43d4fa820878c07",
            "value": 1355256
          }
        },
        "e4148625a618444a8f2aa1546656572c": {
          "model_module": "@jupyter-widgets/controls",
          "model_name": "HTMLModel",
          "model_module_version": "1.5.0",
          "state": {
            "_dom_classes": [],
            "_model_module": "@jupyter-widgets/controls",
            "_model_module_version": "1.5.0",
            "_model_name": "HTMLModel",
            "_view_count": null,
            "_view_module": "@jupyter-widgets/controls",
            "_view_module_version": "1.5.0",
            "_view_name": "HTMLView",
            "description": "",
            "description_tooltip": null,
            "layout": "IPY_MODEL_1fa48fd2d1284850978df39ec69d00a6",
            "placeholder": "​",
            "style": "IPY_MODEL_b114a1629deb44fe94e4bbd70da58b51",
            "value": " 1.36M/1.36M [00:00&lt;00:00, 40.3MB/s]"
          }
        },
        "bf4e5f3297ee493fb846d4e1cce3702c": {
          "model_module": "@jupyter-widgets/base",
          "model_name": "LayoutModel",
          "model_module_version": "1.2.0",
          "state": {
            "_model_module": "@jupyter-widgets/base",
            "_model_module_version": "1.2.0",
            "_model_name": "LayoutModel",
            "_view_count": null,
            "_view_module": "@jupyter-widgets/base",
            "_view_module_version": "1.2.0",
            "_view_name": "LayoutView",
            "align_content": null,
            "align_items": null,
            "align_self": null,
            "border": null,
            "bottom": null,
            "display": null,
            "flex": null,
            "flex_flow": null,
            "grid_area": null,
            "grid_auto_columns": null,
            "grid_auto_flow": null,
            "grid_auto_rows": null,
            "grid_column": null,
            "grid_gap": null,
            "grid_row": null,
            "grid_template_areas": null,
            "grid_template_columns": null,
            "grid_template_rows": null,
            "height": null,
            "justify_content": null,
            "justify_items": null,
            "left": null,
            "margin": null,
            "max_height": null,
            "max_width": null,
            "min_height": null,
            "min_width": null,
            "object_fit": null,
            "object_position": null,
            "order": null,
            "overflow": null,
            "overflow_x": null,
            "overflow_y": null,
            "padding": null,
            "right": null,
            "top": null,
            "visibility": null,
            "width": null
          }
        },
        "be02fbd0b2564a7bb7c058c478c2500e": {
          "model_module": "@jupyter-widgets/base",
          "model_name": "LayoutModel",
          "model_module_version": "1.2.0",
          "state": {
            "_model_module": "@jupyter-widgets/base",
            "_model_module_version": "1.2.0",
            "_model_name": "LayoutModel",
            "_view_count": null,
            "_view_module": "@jupyter-widgets/base",
            "_view_module_version": "1.2.0",
            "_view_name": "LayoutView",
            "align_content": null,
            "align_items": null,
            "align_self": null,
            "border": null,
            "bottom": null,
            "display": null,
            "flex": null,
            "flex_flow": null,
            "grid_area": null,
            "grid_auto_columns": null,
            "grid_auto_flow": null,
            "grid_auto_rows": null,
            "grid_column": null,
            "grid_gap": null,
            "grid_row": null,
            "grid_template_areas": null,
            "grid_template_columns": null,
            "grid_template_rows": null,
            "height": null,
            "justify_content": null,
            "justify_items": null,
            "left": null,
            "margin": null,
            "max_height": null,
            "max_width": null,
            "min_height": null,
            "min_width": null,
            "object_fit": null,
            "object_position": null,
            "order": null,
            "overflow": null,
            "overflow_x": null,
            "overflow_y": null,
            "padding": null,
            "right": null,
            "top": null,
            "visibility": null,
            "width": null
          }
        },
        "46a050c799364dd590ba45eeb51b72d1": {
          "model_module": "@jupyter-widgets/controls",
          "model_name": "DescriptionStyleModel",
          "model_module_version": "1.5.0",
          "state": {
            "_model_module": "@jupyter-widgets/controls",
            "_model_module_version": "1.5.0",
            "_model_name": "DescriptionStyleModel",
            "_view_count": null,
            "_view_module": "@jupyter-widgets/base",
            "_view_module_version": "1.2.0",
            "_view_name": "StyleView",
            "description_width": ""
          }
        },
        "e2692bd5e66c41b4a19e698d272f9117": {
          "model_module": "@jupyter-widgets/base",
          "model_name": "LayoutModel",
          "model_module_version": "1.2.0",
          "state": {
            "_model_module": "@jupyter-widgets/base",
            "_model_module_version": "1.2.0",
            "_model_name": "LayoutModel",
            "_view_count": null,
            "_view_module": "@jupyter-widgets/base",
            "_view_module_version": "1.2.0",
            "_view_name": "LayoutView",
            "align_content": null,
            "align_items": null,
            "align_self": null,
            "border": null,
            "bottom": null,
            "display": null,
            "flex": null,
            "flex_flow": null,
            "grid_area": null,
            "grid_auto_columns": null,
            "grid_auto_flow": null,
            "grid_auto_rows": null,
            "grid_column": null,
            "grid_gap": null,
            "grid_row": null,
            "grid_template_areas": null,
            "grid_template_columns": null,
            "grid_template_rows": null,
            "height": null,
            "justify_content": null,
            "justify_items": null,
            "left": null,
            "margin": null,
            "max_height": null,
            "max_width": null,
            "min_height": null,
            "min_width": null,
            "object_fit": null,
            "object_position": null,
            "order": null,
            "overflow": null,
            "overflow_x": null,
            "overflow_y": null,
            "padding": null,
            "right": null,
            "top": null,
            "visibility": null,
            "width": null
          }
        },
        "378f8833231343a7a43d4fa820878c07": {
          "model_module": "@jupyter-widgets/controls",
          "model_name": "ProgressStyleModel",
          "model_module_version": "1.5.0",
          "state": {
            "_model_module": "@jupyter-widgets/controls",
            "_model_module_version": "1.5.0",
            "_model_name": "ProgressStyleModel",
            "_view_count": null,
            "_view_module": "@jupyter-widgets/base",
            "_view_module_version": "1.2.0",
            "_view_name": "StyleView",
            "bar_color": null,
            "description_width": ""
          }
        },
        "1fa48fd2d1284850978df39ec69d00a6": {
          "model_module": "@jupyter-widgets/base",
          "model_name": "LayoutModel",
          "model_module_version": "1.2.0",
          "state": {
            "_model_module": "@jupyter-widgets/base",
            "_model_module_version": "1.2.0",
            "_model_name": "LayoutModel",
            "_view_count": null,
            "_view_module": "@jupyter-widgets/base",
            "_view_module_version": "1.2.0",
            "_view_name": "LayoutView",
            "align_content": null,
            "align_items": null,
            "align_self": null,
            "border": null,
            "bottom": null,
            "display": null,
            "flex": null,
            "flex_flow": null,
            "grid_area": null,
            "grid_auto_columns": null,
            "grid_auto_flow": null,
            "grid_auto_rows": null,
            "grid_column": null,
            "grid_gap": null,
            "grid_row": null,
            "grid_template_areas": null,
            "grid_template_columns": null,
            "grid_template_rows": null,
            "height": null,
            "justify_content": null,
            "justify_items": null,
            "left": null,
            "margin": null,
            "max_height": null,
            "max_width": null,
            "min_height": null,
            "min_width": null,
            "object_fit": null,
            "object_position": null,
            "order": null,
            "overflow": null,
            "overflow_x": null,
            "overflow_y": null,
            "padding": null,
            "right": null,
            "top": null,
            "visibility": null,
            "width": null
          }
        },
        "b114a1629deb44fe94e4bbd70da58b51": {
          "model_module": "@jupyter-widgets/controls",
          "model_name": "DescriptionStyleModel",
          "model_module_version": "1.5.0",
          "state": {
            "_model_module": "@jupyter-widgets/controls",
            "_model_module_version": "1.5.0",
            "_model_name": "DescriptionStyleModel",
            "_view_count": null,
            "_view_module": "@jupyter-widgets/base",
            "_view_module_version": "1.2.0",
            "_view_name": "StyleView",
            "description_width": ""
          }
        },
        "f2e6eb969bfa4e5483085533c7dca675": {
          "model_module": "@jupyter-widgets/controls",
          "model_name": "HBoxModel",
          "model_module_version": "1.5.0",
          "state": {
            "_dom_classes": [],
            "_model_module": "@jupyter-widgets/controls",
            "_model_module_version": "1.5.0",
            "_model_name": "HBoxModel",
            "_view_count": null,
            "_view_module": "@jupyter-widgets/controls",
            "_view_module_version": "1.5.0",
            "_view_name": "HBoxView",
            "box_style": "",
            "children": [
              "IPY_MODEL_0df6afb1d1f04d6a91eb54a0b7f68031",
              "IPY_MODEL_db4aa26625df46628fe27277a33eed9d",
              "IPY_MODEL_4226cb72eeed44c29ffd24c01ef1e6cc"
            ],
            "layout": "IPY_MODEL_f6f7b6f0eeaa4ae4aed2a5e8846c755f"
          }
        },
        "0df6afb1d1f04d6a91eb54a0b7f68031": {
          "model_module": "@jupyter-widgets/controls",
          "model_name": "HTMLModel",
          "model_module_version": "1.5.0",
          "state": {
            "_dom_classes": [],
            "_model_module": "@jupyter-widgets/controls",
            "_model_module_version": "1.5.0",
            "_model_name": "HTMLModel",
            "_view_count": null,
            "_view_module": "@jupyter-widgets/controls",
            "_view_module_version": "1.5.0",
            "_view_name": "HTMLView",
            "description": "",
            "description_tooltip": null,
            "layout": "IPY_MODEL_616f2024e0784c0a9edd696b41b46360",
            "placeholder": "​",
            "style": "IPY_MODEL_40aa176c0c794be68565d5d2225c3469",
            "value": "config.json: 100%"
          }
        },
        "db4aa26625df46628fe27277a33eed9d": {
          "model_module": "@jupyter-widgets/controls",
          "model_name": "FloatProgressModel",
          "model_module_version": "1.5.0",
          "state": {
            "_dom_classes": [],
            "_model_module": "@jupyter-widgets/controls",
            "_model_module_version": "1.5.0",
            "_model_name": "FloatProgressModel",
            "_view_count": null,
            "_view_module": "@jupyter-widgets/controls",
            "_view_module_version": "1.5.0",
            "_view_name": "ProgressView",
            "bar_style": "success",
            "description": "",
            "description_tooltip": null,
            "layout": "IPY_MODEL_346381b3c15a4feabf8ce1833b1c7c34",
            "max": 665,
            "min": 0,
            "orientation": "horizontal",
            "style": "IPY_MODEL_99fe3f6fee1848e28b119e92278c308b",
            "value": 665
          }
        },
        "4226cb72eeed44c29ffd24c01ef1e6cc": {
          "model_module": "@jupyter-widgets/controls",
          "model_name": "HTMLModel",
          "model_module_version": "1.5.0",
          "state": {
            "_dom_classes": [],
            "_model_module": "@jupyter-widgets/controls",
            "_model_module_version": "1.5.0",
            "_model_name": "HTMLModel",
            "_view_count": null,
            "_view_module": "@jupyter-widgets/controls",
            "_view_module_version": "1.5.0",
            "_view_name": "HTMLView",
            "description": "",
            "description_tooltip": null,
            "layout": "IPY_MODEL_1e7f316aca40414488ab4adfe8e0dc84",
            "placeholder": "​",
            "style": "IPY_MODEL_bbed104623894a6e8aa29e410df9dd38",
            "value": " 665/665 [00:00&lt;00:00, 50.2kB/s]"
          }
        },
        "f6f7b6f0eeaa4ae4aed2a5e8846c755f": {
          "model_module": "@jupyter-widgets/base",
          "model_name": "LayoutModel",
          "model_module_version": "1.2.0",
          "state": {
            "_model_module": "@jupyter-widgets/base",
            "_model_module_version": "1.2.0",
            "_model_name": "LayoutModel",
            "_view_count": null,
            "_view_module": "@jupyter-widgets/base",
            "_view_module_version": "1.2.0",
            "_view_name": "LayoutView",
            "align_content": null,
            "align_items": null,
            "align_self": null,
            "border": null,
            "bottom": null,
            "display": null,
            "flex": null,
            "flex_flow": null,
            "grid_area": null,
            "grid_auto_columns": null,
            "grid_auto_flow": null,
            "grid_auto_rows": null,
            "grid_column": null,
            "grid_gap": null,
            "grid_row": null,
            "grid_template_areas": null,
            "grid_template_columns": null,
            "grid_template_rows": null,
            "height": null,
            "justify_content": null,
            "justify_items": null,
            "left": null,
            "margin": null,
            "max_height": null,
            "max_width": null,
            "min_height": null,
            "min_width": null,
            "object_fit": null,
            "object_position": null,
            "order": null,
            "overflow": null,
            "overflow_x": null,
            "overflow_y": null,
            "padding": null,
            "right": null,
            "top": null,
            "visibility": null,
            "width": null
          }
        },
        "616f2024e0784c0a9edd696b41b46360": {
          "model_module": "@jupyter-widgets/base",
          "model_name": "LayoutModel",
          "model_module_version": "1.2.0",
          "state": {
            "_model_module": "@jupyter-widgets/base",
            "_model_module_version": "1.2.0",
            "_model_name": "LayoutModel",
            "_view_count": null,
            "_view_module": "@jupyter-widgets/base",
            "_view_module_version": "1.2.0",
            "_view_name": "LayoutView",
            "align_content": null,
            "align_items": null,
            "align_self": null,
            "border": null,
            "bottom": null,
            "display": null,
            "flex": null,
            "flex_flow": null,
            "grid_area": null,
            "grid_auto_columns": null,
            "grid_auto_flow": null,
            "grid_auto_rows": null,
            "grid_column": null,
            "grid_gap": null,
            "grid_row": null,
            "grid_template_areas": null,
            "grid_template_columns": null,
            "grid_template_rows": null,
            "height": null,
            "justify_content": null,
            "justify_items": null,
            "left": null,
            "margin": null,
            "max_height": null,
            "max_width": null,
            "min_height": null,
            "min_width": null,
            "object_fit": null,
            "object_position": null,
            "order": null,
            "overflow": null,
            "overflow_x": null,
            "overflow_y": null,
            "padding": null,
            "right": null,
            "top": null,
            "visibility": null,
            "width": null
          }
        },
        "40aa176c0c794be68565d5d2225c3469": {
          "model_module": "@jupyter-widgets/controls",
          "model_name": "DescriptionStyleModel",
          "model_module_version": "1.5.0",
          "state": {
            "_model_module": "@jupyter-widgets/controls",
            "_model_module_version": "1.5.0",
            "_model_name": "DescriptionStyleModel",
            "_view_count": null,
            "_view_module": "@jupyter-widgets/base",
            "_view_module_version": "1.2.0",
            "_view_name": "StyleView",
            "description_width": ""
          }
        },
        "346381b3c15a4feabf8ce1833b1c7c34": {
          "model_module": "@jupyter-widgets/base",
          "model_name": "LayoutModel",
          "model_module_version": "1.2.0",
          "state": {
            "_model_module": "@jupyter-widgets/base",
            "_model_module_version": "1.2.0",
            "_model_name": "LayoutModel",
            "_view_count": null,
            "_view_module": "@jupyter-widgets/base",
            "_view_module_version": "1.2.0",
            "_view_name": "LayoutView",
            "align_content": null,
            "align_items": null,
            "align_self": null,
            "border": null,
            "bottom": null,
            "display": null,
            "flex": null,
            "flex_flow": null,
            "grid_area": null,
            "grid_auto_columns": null,
            "grid_auto_flow": null,
            "grid_auto_rows": null,
            "grid_column": null,
            "grid_gap": null,
            "grid_row": null,
            "grid_template_areas": null,
            "grid_template_columns": null,
            "grid_template_rows": null,
            "height": null,
            "justify_content": null,
            "justify_items": null,
            "left": null,
            "margin": null,
            "max_height": null,
            "max_width": null,
            "min_height": null,
            "min_width": null,
            "object_fit": null,
            "object_position": null,
            "order": null,
            "overflow": null,
            "overflow_x": null,
            "overflow_y": null,
            "padding": null,
            "right": null,
            "top": null,
            "visibility": null,
            "width": null
          }
        },
        "99fe3f6fee1848e28b119e92278c308b": {
          "model_module": "@jupyter-widgets/controls",
          "model_name": "ProgressStyleModel",
          "model_module_version": "1.5.0",
          "state": {
            "_model_module": "@jupyter-widgets/controls",
            "_model_module_version": "1.5.0",
            "_model_name": "ProgressStyleModel",
            "_view_count": null,
            "_view_module": "@jupyter-widgets/base",
            "_view_module_version": "1.2.0",
            "_view_name": "StyleView",
            "bar_color": null,
            "description_width": ""
          }
        },
        "1e7f316aca40414488ab4adfe8e0dc84": {
          "model_module": "@jupyter-widgets/base",
          "model_name": "LayoutModel",
          "model_module_version": "1.2.0",
          "state": {
            "_model_module": "@jupyter-widgets/base",
            "_model_module_version": "1.2.0",
            "_model_name": "LayoutModel",
            "_view_count": null,
            "_view_module": "@jupyter-widgets/base",
            "_view_module_version": "1.2.0",
            "_view_name": "LayoutView",
            "align_content": null,
            "align_items": null,
            "align_self": null,
            "border": null,
            "bottom": null,
            "display": null,
            "flex": null,
            "flex_flow": null,
            "grid_area": null,
            "grid_auto_columns": null,
            "grid_auto_flow": null,
            "grid_auto_rows": null,
            "grid_column": null,
            "grid_gap": null,
            "grid_row": null,
            "grid_template_areas": null,
            "grid_template_columns": null,
            "grid_template_rows": null,
            "height": null,
            "justify_content": null,
            "justify_items": null,
            "left": null,
            "margin": null,
            "max_height": null,
            "max_width": null,
            "min_height": null,
            "min_width": null,
            "object_fit": null,
            "object_position": null,
            "order": null,
            "overflow": null,
            "overflow_x": null,
            "overflow_y": null,
            "padding": null,
            "right": null,
            "top": null,
            "visibility": null,
            "width": null
          }
        },
        "bbed104623894a6e8aa29e410df9dd38": {
          "model_module": "@jupyter-widgets/controls",
          "model_name": "DescriptionStyleModel",
          "model_module_version": "1.5.0",
          "state": {
            "_model_module": "@jupyter-widgets/controls",
            "_model_module_version": "1.5.0",
            "_model_name": "DescriptionStyleModel",
            "_view_count": null,
            "_view_module": "@jupyter-widgets/base",
            "_view_module_version": "1.2.0",
            "_view_name": "StyleView",
            "description_width": ""
          }
        },
        "2740468bc60c4ca485d07d535df13399": {
          "model_module": "@jupyter-widgets/controls",
          "model_name": "HBoxModel",
          "model_module_version": "1.5.0",
          "state": {
            "_dom_classes": [],
            "_model_module": "@jupyter-widgets/controls",
            "_model_module_version": "1.5.0",
            "_model_name": "HBoxModel",
            "_view_count": null,
            "_view_module": "@jupyter-widgets/controls",
            "_view_module_version": "1.5.0",
            "_view_name": "HBoxView",
            "box_style": "",
            "children": [
              "IPY_MODEL_b2413c5e15e14fbabf88dce8b2009ef3",
              "IPY_MODEL_f24110b4dd1f43579be5e58de0d4f28a",
              "IPY_MODEL_35e69229615247eeb2ae535bd6c07089"
            ],
            "layout": "IPY_MODEL_beae06c01f8e4bbdb077519488ba5469"
          }
        },
        "b2413c5e15e14fbabf88dce8b2009ef3": {
          "model_module": "@jupyter-widgets/controls",
          "model_name": "HTMLModel",
          "model_module_version": "1.5.0",
          "state": {
            "_dom_classes": [],
            "_model_module": "@jupyter-widgets/controls",
            "_model_module_version": "1.5.0",
            "_model_name": "HTMLModel",
            "_view_count": null,
            "_view_module": "@jupyter-widgets/controls",
            "_view_module_version": "1.5.0",
            "_view_name": "HTMLView",
            "description": "",
            "description_tooltip": null,
            "layout": "IPY_MODEL_b2cded091cb74e71a2a83069e01f5dff",
            "placeholder": "​",
            "style": "IPY_MODEL_443ba561af5a4f54bc1c90e3b94ee283",
            "value": "model.safetensors: 100%"
          }
        },
        "f24110b4dd1f43579be5e58de0d4f28a": {
          "model_module": "@jupyter-widgets/controls",
          "model_name": "FloatProgressModel",
          "model_module_version": "1.5.0",
          "state": {
            "_dom_classes": [],
            "_model_module": "@jupyter-widgets/controls",
            "_model_module_version": "1.5.0",
            "_model_name": "FloatProgressModel",
            "_view_count": null,
            "_view_module": "@jupyter-widgets/controls",
            "_view_module_version": "1.5.0",
            "_view_name": "ProgressView",
            "bar_style": "success",
            "description": "",
            "description_tooltip": null,
            "layout": "IPY_MODEL_be4a9e4451554384ae61300684052ec5",
            "max": 548105171,
            "min": 0,
            "orientation": "horizontal",
            "style": "IPY_MODEL_2b11806033ae43a291b376f016772fe3",
            "value": 548105171
          }
        },
        "35e69229615247eeb2ae535bd6c07089": {
          "model_module": "@jupyter-widgets/controls",
          "model_name": "HTMLModel",
          "model_module_version": "1.5.0",
          "state": {
            "_dom_classes": [],
            "_model_module": "@jupyter-widgets/controls",
            "_model_module_version": "1.5.0",
            "_model_name": "HTMLModel",
            "_view_count": null,
            "_view_module": "@jupyter-widgets/controls",
            "_view_module_version": "1.5.0",
            "_view_name": "HTMLView",
            "description": "",
            "description_tooltip": null,
            "layout": "IPY_MODEL_0af43ac0490a4dc9a3da44bbc26b078d",
            "placeholder": "​",
            "style": "IPY_MODEL_6e9dbfeb17c5406ca10b58460967fc35",
            "value": " 548M/548M [00:02&lt;00:00, 241MB/s]"
          }
        },
        "beae06c01f8e4bbdb077519488ba5469": {
          "model_module": "@jupyter-widgets/base",
          "model_name": "LayoutModel",
          "model_module_version": "1.2.0",
          "state": {
            "_model_module": "@jupyter-widgets/base",
            "_model_module_version": "1.2.0",
            "_model_name": "LayoutModel",
            "_view_count": null,
            "_view_module": "@jupyter-widgets/base",
            "_view_module_version": "1.2.0",
            "_view_name": "LayoutView",
            "align_content": null,
            "align_items": null,
            "align_self": null,
            "border": null,
            "bottom": null,
            "display": null,
            "flex": null,
            "flex_flow": null,
            "grid_area": null,
            "grid_auto_columns": null,
            "grid_auto_flow": null,
            "grid_auto_rows": null,
            "grid_column": null,
            "grid_gap": null,
            "grid_row": null,
            "grid_template_areas": null,
            "grid_template_columns": null,
            "grid_template_rows": null,
            "height": null,
            "justify_content": null,
            "justify_items": null,
            "left": null,
            "margin": null,
            "max_height": null,
            "max_width": null,
            "min_height": null,
            "min_width": null,
            "object_fit": null,
            "object_position": null,
            "order": null,
            "overflow": null,
            "overflow_x": null,
            "overflow_y": null,
            "padding": null,
            "right": null,
            "top": null,
            "visibility": null,
            "width": null
          }
        },
        "b2cded091cb74e71a2a83069e01f5dff": {
          "model_module": "@jupyter-widgets/base",
          "model_name": "LayoutModel",
          "model_module_version": "1.2.0",
          "state": {
            "_model_module": "@jupyter-widgets/base",
            "_model_module_version": "1.2.0",
            "_model_name": "LayoutModel",
            "_view_count": null,
            "_view_module": "@jupyter-widgets/base",
            "_view_module_version": "1.2.0",
            "_view_name": "LayoutView",
            "align_content": null,
            "align_items": null,
            "align_self": null,
            "border": null,
            "bottom": null,
            "display": null,
            "flex": null,
            "flex_flow": null,
            "grid_area": null,
            "grid_auto_columns": null,
            "grid_auto_flow": null,
            "grid_auto_rows": null,
            "grid_column": null,
            "grid_gap": null,
            "grid_row": null,
            "grid_template_areas": null,
            "grid_template_columns": null,
            "grid_template_rows": null,
            "height": null,
            "justify_content": null,
            "justify_items": null,
            "left": null,
            "margin": null,
            "max_height": null,
            "max_width": null,
            "min_height": null,
            "min_width": null,
            "object_fit": null,
            "object_position": null,
            "order": null,
            "overflow": null,
            "overflow_x": null,
            "overflow_y": null,
            "padding": null,
            "right": null,
            "top": null,
            "visibility": null,
            "width": null
          }
        },
        "443ba561af5a4f54bc1c90e3b94ee283": {
          "model_module": "@jupyter-widgets/controls",
          "model_name": "DescriptionStyleModel",
          "model_module_version": "1.5.0",
          "state": {
            "_model_module": "@jupyter-widgets/controls",
            "_model_module_version": "1.5.0",
            "_model_name": "DescriptionStyleModel",
            "_view_count": null,
            "_view_module": "@jupyter-widgets/base",
            "_view_module_version": "1.2.0",
            "_view_name": "StyleView",
            "description_width": ""
          }
        },
        "be4a9e4451554384ae61300684052ec5": {
          "model_module": "@jupyter-widgets/base",
          "model_name": "LayoutModel",
          "model_module_version": "1.2.0",
          "state": {
            "_model_module": "@jupyter-widgets/base",
            "_model_module_version": "1.2.0",
            "_model_name": "LayoutModel",
            "_view_count": null,
            "_view_module": "@jupyter-widgets/base",
            "_view_module_version": "1.2.0",
            "_view_name": "LayoutView",
            "align_content": null,
            "align_items": null,
            "align_self": null,
            "border": null,
            "bottom": null,
            "display": null,
            "flex": null,
            "flex_flow": null,
            "grid_area": null,
            "grid_auto_columns": null,
            "grid_auto_flow": null,
            "grid_auto_rows": null,
            "grid_column": null,
            "grid_gap": null,
            "grid_row": null,
            "grid_template_areas": null,
            "grid_template_columns": null,
            "grid_template_rows": null,
            "height": null,
            "justify_content": null,
            "justify_items": null,
            "left": null,
            "margin": null,
            "max_height": null,
            "max_width": null,
            "min_height": null,
            "min_width": null,
            "object_fit": null,
            "object_position": null,
            "order": null,
            "overflow": null,
            "overflow_x": null,
            "overflow_y": null,
            "padding": null,
            "right": null,
            "top": null,
            "visibility": null,
            "width": null
          }
        },
        "2b11806033ae43a291b376f016772fe3": {
          "model_module": "@jupyter-widgets/controls",
          "model_name": "ProgressStyleModel",
          "model_module_version": "1.5.0",
          "state": {
            "_model_module": "@jupyter-widgets/controls",
            "_model_module_version": "1.5.0",
            "_model_name": "ProgressStyleModel",
            "_view_count": null,
            "_view_module": "@jupyter-widgets/base",
            "_view_module_version": "1.2.0",
            "_view_name": "StyleView",
            "bar_color": null,
            "description_width": ""
          }
        },
        "0af43ac0490a4dc9a3da44bbc26b078d": {
          "model_module": "@jupyter-widgets/base",
          "model_name": "LayoutModel",
          "model_module_version": "1.2.0",
          "state": {
            "_model_module": "@jupyter-widgets/base",
            "_model_module_version": "1.2.0",
            "_model_name": "LayoutModel",
            "_view_count": null,
            "_view_module": "@jupyter-widgets/base",
            "_view_module_version": "1.2.0",
            "_view_name": "LayoutView",
            "align_content": null,
            "align_items": null,
            "align_self": null,
            "border": null,
            "bottom": null,
            "display": null,
            "flex": null,
            "flex_flow": null,
            "grid_area": null,
            "grid_auto_columns": null,
            "grid_auto_flow": null,
            "grid_auto_rows": null,
            "grid_column": null,
            "grid_gap": null,
            "grid_row": null,
            "grid_template_areas": null,
            "grid_template_columns": null,
            "grid_template_rows": null,
            "height": null,
            "justify_content": null,
            "justify_items": null,
            "left": null,
            "margin": null,
            "max_height": null,
            "max_width": null,
            "min_height": null,
            "min_width": null,
            "object_fit": null,
            "object_position": null,
            "order": null,
            "overflow": null,
            "overflow_x": null,
            "overflow_y": null,
            "padding": null,
            "right": null,
            "top": null,
            "visibility": null,
            "width": null
          }
        },
        "6e9dbfeb17c5406ca10b58460967fc35": {
          "model_module": "@jupyter-widgets/controls",
          "model_name": "DescriptionStyleModel",
          "model_module_version": "1.5.0",
          "state": {
            "_model_module": "@jupyter-widgets/controls",
            "_model_module_version": "1.5.0",
            "_model_name": "DescriptionStyleModel",
            "_view_count": null,
            "_view_module": "@jupyter-widgets/base",
            "_view_module_version": "1.2.0",
            "_view_name": "StyleView",
            "description_width": ""
          }
        },
        "55d1c53fbe484d28a286a085ae716e82": {
          "model_module": "@jupyter-widgets/controls",
          "model_name": "HBoxModel",
          "model_module_version": "1.5.0",
          "state": {
            "_dom_classes": [],
            "_model_module": "@jupyter-widgets/controls",
            "_model_module_version": "1.5.0",
            "_model_name": "HBoxModel",
            "_view_count": null,
            "_view_module": "@jupyter-widgets/controls",
            "_view_module_version": "1.5.0",
            "_view_name": "HBoxView",
            "box_style": "",
            "children": [
              "IPY_MODEL_eab985a4c56e4d4b92cba9f94ccf44dc",
              "IPY_MODEL_e9f99f7c05c74e95be7a611c55e95b96",
              "IPY_MODEL_21a37e4132a34a9b8744a597624e7f88"
            ],
            "layout": "IPY_MODEL_3ba757851fe841298a0ba2b35f32bbba"
          }
        },
        "eab985a4c56e4d4b92cba9f94ccf44dc": {
          "model_module": "@jupyter-widgets/controls",
          "model_name": "HTMLModel",
          "model_module_version": "1.5.0",
          "state": {
            "_dom_classes": [],
            "_model_module": "@jupyter-widgets/controls",
            "_model_module_version": "1.5.0",
            "_model_name": "HTMLModel",
            "_view_count": null,
            "_view_module": "@jupyter-widgets/controls",
            "_view_module_version": "1.5.0",
            "_view_name": "HTMLView",
            "description": "",
            "description_tooltip": null,
            "layout": "IPY_MODEL_e91eccbc7a6649688b2e3bc1cddd29bc",
            "placeholder": "​",
            "style": "IPY_MODEL_59e184ab16314505aa2955f156bf3bdc",
            "value": "generation_config.json: 100%"
          }
        },
        "e9f99f7c05c74e95be7a611c55e95b96": {
          "model_module": "@jupyter-widgets/controls",
          "model_name": "FloatProgressModel",
          "model_module_version": "1.5.0",
          "state": {
            "_dom_classes": [],
            "_model_module": "@jupyter-widgets/controls",
            "_model_module_version": "1.5.0",
            "_model_name": "FloatProgressModel",
            "_view_count": null,
            "_view_module": "@jupyter-widgets/controls",
            "_view_module_version": "1.5.0",
            "_view_name": "ProgressView",
            "bar_style": "success",
            "description": "",
            "description_tooltip": null,
            "layout": "IPY_MODEL_01e56f23b5594ebcb805b61a038d33d9",
            "max": 124,
            "min": 0,
            "orientation": "horizontal",
            "style": "IPY_MODEL_4c07fdfb702f414483a3e8184b305786",
            "value": 124
          }
        },
        "21a37e4132a34a9b8744a597624e7f88": {
          "model_module": "@jupyter-widgets/controls",
          "model_name": "HTMLModel",
          "model_module_version": "1.5.0",
          "state": {
            "_dom_classes": [],
            "_model_module": "@jupyter-widgets/controls",
            "_model_module_version": "1.5.0",
            "_model_name": "HTMLModel",
            "_view_count": null,
            "_view_module": "@jupyter-widgets/controls",
            "_view_module_version": "1.5.0",
            "_view_name": "HTMLView",
            "description": "",
            "description_tooltip": null,
            "layout": "IPY_MODEL_4ad425e607ba4a31b8f169bd5ea2d923",
            "placeholder": "​",
            "style": "IPY_MODEL_98984c96ef314e2b8d1060bb3113a748",
            "value": " 124/124 [00:00&lt;00:00, 14.2kB/s]"
          }
        },
        "3ba757851fe841298a0ba2b35f32bbba": {
          "model_module": "@jupyter-widgets/base",
          "model_name": "LayoutModel",
          "model_module_version": "1.2.0",
          "state": {
            "_model_module": "@jupyter-widgets/base",
            "_model_module_version": "1.2.0",
            "_model_name": "LayoutModel",
            "_view_count": null,
            "_view_module": "@jupyter-widgets/base",
            "_view_module_version": "1.2.0",
            "_view_name": "LayoutView",
            "align_content": null,
            "align_items": null,
            "align_self": null,
            "border": null,
            "bottom": null,
            "display": null,
            "flex": null,
            "flex_flow": null,
            "grid_area": null,
            "grid_auto_columns": null,
            "grid_auto_flow": null,
            "grid_auto_rows": null,
            "grid_column": null,
            "grid_gap": null,
            "grid_row": null,
            "grid_template_areas": null,
            "grid_template_columns": null,
            "grid_template_rows": null,
            "height": null,
            "justify_content": null,
            "justify_items": null,
            "left": null,
            "margin": null,
            "max_height": null,
            "max_width": null,
            "min_height": null,
            "min_width": null,
            "object_fit": null,
            "object_position": null,
            "order": null,
            "overflow": null,
            "overflow_x": null,
            "overflow_y": null,
            "padding": null,
            "right": null,
            "top": null,
            "visibility": null,
            "width": null
          }
        },
        "e91eccbc7a6649688b2e3bc1cddd29bc": {
          "model_module": "@jupyter-widgets/base",
          "model_name": "LayoutModel",
          "model_module_version": "1.2.0",
          "state": {
            "_model_module": "@jupyter-widgets/base",
            "_model_module_version": "1.2.0",
            "_model_name": "LayoutModel",
            "_view_count": null,
            "_view_module": "@jupyter-widgets/base",
            "_view_module_version": "1.2.0",
            "_view_name": "LayoutView",
            "align_content": null,
            "align_items": null,
            "align_self": null,
            "border": null,
            "bottom": null,
            "display": null,
            "flex": null,
            "flex_flow": null,
            "grid_area": null,
            "grid_auto_columns": null,
            "grid_auto_flow": null,
            "grid_auto_rows": null,
            "grid_column": null,
            "grid_gap": null,
            "grid_row": null,
            "grid_template_areas": null,
            "grid_template_columns": null,
            "grid_template_rows": null,
            "height": null,
            "justify_content": null,
            "justify_items": null,
            "left": null,
            "margin": null,
            "max_height": null,
            "max_width": null,
            "min_height": null,
            "min_width": null,
            "object_fit": null,
            "object_position": null,
            "order": null,
            "overflow": null,
            "overflow_x": null,
            "overflow_y": null,
            "padding": null,
            "right": null,
            "top": null,
            "visibility": null,
            "width": null
          }
        },
        "59e184ab16314505aa2955f156bf3bdc": {
          "model_module": "@jupyter-widgets/controls",
          "model_name": "DescriptionStyleModel",
          "model_module_version": "1.5.0",
          "state": {
            "_model_module": "@jupyter-widgets/controls",
            "_model_module_version": "1.5.0",
            "_model_name": "DescriptionStyleModel",
            "_view_count": null,
            "_view_module": "@jupyter-widgets/base",
            "_view_module_version": "1.2.0",
            "_view_name": "StyleView",
            "description_width": ""
          }
        },
        "01e56f23b5594ebcb805b61a038d33d9": {
          "model_module": "@jupyter-widgets/base",
          "model_name": "LayoutModel",
          "model_module_version": "1.2.0",
          "state": {
            "_model_module": "@jupyter-widgets/base",
            "_model_module_version": "1.2.0",
            "_model_name": "LayoutModel",
            "_view_count": null,
            "_view_module": "@jupyter-widgets/base",
            "_view_module_version": "1.2.0",
            "_view_name": "LayoutView",
            "align_content": null,
            "align_items": null,
            "align_self": null,
            "border": null,
            "bottom": null,
            "display": null,
            "flex": null,
            "flex_flow": null,
            "grid_area": null,
            "grid_auto_columns": null,
            "grid_auto_flow": null,
            "grid_auto_rows": null,
            "grid_column": null,
            "grid_gap": null,
            "grid_row": null,
            "grid_template_areas": null,
            "grid_template_columns": null,
            "grid_template_rows": null,
            "height": null,
            "justify_content": null,
            "justify_items": null,
            "left": null,
            "margin": null,
            "max_height": null,
            "max_width": null,
            "min_height": null,
            "min_width": null,
            "object_fit": null,
            "object_position": null,
            "order": null,
            "overflow": null,
            "overflow_x": null,
            "overflow_y": null,
            "padding": null,
            "right": null,
            "top": null,
            "visibility": null,
            "width": null
          }
        },
        "4c07fdfb702f414483a3e8184b305786": {
          "model_module": "@jupyter-widgets/controls",
          "model_name": "ProgressStyleModel",
          "model_module_version": "1.5.0",
          "state": {
            "_model_module": "@jupyter-widgets/controls",
            "_model_module_version": "1.5.0",
            "_model_name": "ProgressStyleModel",
            "_view_count": null,
            "_view_module": "@jupyter-widgets/base",
            "_view_module_version": "1.2.0",
            "_view_name": "StyleView",
            "bar_color": null,
            "description_width": ""
          }
        },
        "4ad425e607ba4a31b8f169bd5ea2d923": {
          "model_module": "@jupyter-widgets/base",
          "model_name": "LayoutModel",
          "model_module_version": "1.2.0",
          "state": {
            "_model_module": "@jupyter-widgets/base",
            "_model_module_version": "1.2.0",
            "_model_name": "LayoutModel",
            "_view_count": null,
            "_view_module": "@jupyter-widgets/base",
            "_view_module_version": "1.2.0",
            "_view_name": "LayoutView",
            "align_content": null,
            "align_items": null,
            "align_self": null,
            "border": null,
            "bottom": null,
            "display": null,
            "flex": null,
            "flex_flow": null,
            "grid_area": null,
            "grid_auto_columns": null,
            "grid_auto_flow": null,
            "grid_auto_rows": null,
            "grid_column": null,
            "grid_gap": null,
            "grid_row": null,
            "grid_template_areas": null,
            "grid_template_columns": null,
            "grid_template_rows": null,
            "height": null,
            "justify_content": null,
            "justify_items": null,
            "left": null,
            "margin": null,
            "max_height": null,
            "max_width": null,
            "min_height": null,
            "min_width": null,
            "object_fit": null,
            "object_position": null,
            "order": null,
            "overflow": null,
            "overflow_x": null,
            "overflow_y": null,
            "padding": null,
            "right": null,
            "top": null,
            "visibility": null,
            "width": null
          }
        },
        "98984c96ef314e2b8d1060bb3113a748": {
          "model_module": "@jupyter-widgets/controls",
          "model_name": "DescriptionStyleModel",
          "model_module_version": "1.5.0",
          "state": {
            "_model_module": "@jupyter-widgets/controls",
            "_model_module_version": "1.5.0",
            "_model_name": "DescriptionStyleModel",
            "_view_count": null,
            "_view_module": "@jupyter-widgets/base",
            "_view_module_version": "1.2.0",
            "_view_name": "StyleView",
            "description_width": ""
          }
        }
      }
    }
  },
  "cells": [
    {
      "cell_type": "markdown",
      "source": [
        "# 🧠 GPT-2 Text Generation Project\n",
        "\n",
        "This project explores how GPT-2, a decoder-only transformer model, generates coherent text using autoregressive generation. It is part of my LLM foundational learning roadmap.\n",
        "\n",
        "---\n",
        "\n",
        "### ✅ Project Goals:\n",
        "- Understand how GPT-2 works as an autoregressive decoder\n",
        "- Learn decoding strategies: greedy, sampling, top-k, top-p\n",
        "- Control generation using temperature\n",
        "- Generate creative text from prompts\n",
        "- Optionally fine-tune GPT-2 on custom data\n"
      ],
      "metadata": {
        "id": "dTY94jZVBmhq"
      }
    },
    {
      "cell_type": "code",
      "execution_count": 1,
      "metadata": {
        "colab": {
          "base_uri": "https://localhost:8080/"
        },
        "id": "dxjRIUdrAWRp",
        "outputId": "ec0da7d2-ce8f-4219-a575-b5a16278798b"
      },
      "outputs": [
        {
          "output_type": "stream",
          "name": "stdout",
          "text": [
            "Requirement already satisfied: transformers in /usr/local/lib/python3.11/dist-packages (4.50.0)\n",
            "Requirement already satisfied: filelock in /usr/local/lib/python3.11/dist-packages (from transformers) (3.18.0)\n",
            "Requirement already satisfied: huggingface-hub<1.0,>=0.26.0 in /usr/local/lib/python3.11/dist-packages (from transformers) (0.29.3)\n",
            "Requirement already satisfied: numpy>=1.17 in /usr/local/lib/python3.11/dist-packages (from transformers) (2.0.2)\n",
            "Requirement already satisfied: packaging>=20.0 in /usr/local/lib/python3.11/dist-packages (from transformers) (24.2)\n",
            "Requirement already satisfied: pyyaml>=5.1 in /usr/local/lib/python3.11/dist-packages (from transformers) (6.0.2)\n",
            "Requirement already satisfied: regex!=2019.12.17 in /usr/local/lib/python3.11/dist-packages (from transformers) (2024.11.6)\n",
            "Requirement already satisfied: requests in /usr/local/lib/python3.11/dist-packages (from transformers) (2.32.3)\n",
            "Requirement already satisfied: tokenizers<0.22,>=0.21 in /usr/local/lib/python3.11/dist-packages (from transformers) (0.21.1)\n",
            "Requirement already satisfied: safetensors>=0.4.3 in /usr/local/lib/python3.11/dist-packages (from transformers) (0.5.3)\n",
            "Requirement already satisfied: tqdm>=4.27 in /usr/local/lib/python3.11/dist-packages (from transformers) (4.67.1)\n",
            "Requirement already satisfied: fsspec>=2023.5.0 in /usr/local/lib/python3.11/dist-packages (from huggingface-hub<1.0,>=0.26.0->transformers) (2025.3.0)\n",
            "Requirement already satisfied: typing-extensions>=3.7.4.3 in /usr/local/lib/python3.11/dist-packages (from huggingface-hub<1.0,>=0.26.0->transformers) (4.12.2)\n",
            "Requirement already satisfied: charset-normalizer<4,>=2 in /usr/local/lib/python3.11/dist-packages (from requests->transformers) (3.4.1)\n",
            "Requirement already satisfied: idna<4,>=2.5 in /usr/local/lib/python3.11/dist-packages (from requests->transformers) (3.10)\n",
            "Requirement already satisfied: urllib3<3,>=1.21.1 in /usr/local/lib/python3.11/dist-packages (from requests->transformers) (2.3.0)\n",
            "Requirement already satisfied: certifi>=2017.4.17 in /usr/local/lib/python3.11/dist-packages (from requests->transformers) (2025.1.31)\n",
            "Requirement already satisfied: torch in /usr/local/lib/python3.11/dist-packages (2.6.0+cu124)\n",
            "Requirement already satisfied: filelock in /usr/local/lib/python3.11/dist-packages (from torch) (3.18.0)\n",
            "Requirement already satisfied: typing-extensions>=4.10.0 in /usr/local/lib/python3.11/dist-packages (from torch) (4.12.2)\n",
            "Requirement already satisfied: networkx in /usr/local/lib/python3.11/dist-packages (from torch) (3.4.2)\n",
            "Requirement already satisfied: jinja2 in /usr/local/lib/python3.11/dist-packages (from torch) (3.1.6)\n",
            "Requirement already satisfied: fsspec in /usr/local/lib/python3.11/dist-packages (from torch) (2025.3.0)\n",
            "Collecting nvidia-cuda-nvrtc-cu12==12.4.127 (from torch)\n",
            "  Downloading nvidia_cuda_nvrtc_cu12-12.4.127-py3-none-manylinux2014_x86_64.whl.metadata (1.5 kB)\n",
            "Collecting nvidia-cuda-runtime-cu12==12.4.127 (from torch)\n",
            "  Downloading nvidia_cuda_runtime_cu12-12.4.127-py3-none-manylinux2014_x86_64.whl.metadata (1.5 kB)\n",
            "Collecting nvidia-cuda-cupti-cu12==12.4.127 (from torch)\n",
            "  Downloading nvidia_cuda_cupti_cu12-12.4.127-py3-none-manylinux2014_x86_64.whl.metadata (1.6 kB)\n",
            "Collecting nvidia-cudnn-cu12==9.1.0.70 (from torch)\n",
            "  Downloading nvidia_cudnn_cu12-9.1.0.70-py3-none-manylinux2014_x86_64.whl.metadata (1.6 kB)\n",
            "Collecting nvidia-cublas-cu12==12.4.5.8 (from torch)\n",
            "  Downloading nvidia_cublas_cu12-12.4.5.8-py3-none-manylinux2014_x86_64.whl.metadata (1.5 kB)\n",
            "Collecting nvidia-cufft-cu12==11.2.1.3 (from torch)\n",
            "  Downloading nvidia_cufft_cu12-11.2.1.3-py3-none-manylinux2014_x86_64.whl.metadata (1.5 kB)\n",
            "Collecting nvidia-curand-cu12==10.3.5.147 (from torch)\n",
            "  Downloading nvidia_curand_cu12-10.3.5.147-py3-none-manylinux2014_x86_64.whl.metadata (1.5 kB)\n",
            "Collecting nvidia-cusolver-cu12==11.6.1.9 (from torch)\n",
            "  Downloading nvidia_cusolver_cu12-11.6.1.9-py3-none-manylinux2014_x86_64.whl.metadata (1.6 kB)\n",
            "Collecting nvidia-cusparse-cu12==12.3.1.170 (from torch)\n",
            "  Downloading nvidia_cusparse_cu12-12.3.1.170-py3-none-manylinux2014_x86_64.whl.metadata (1.6 kB)\n",
            "Requirement already satisfied: nvidia-cusparselt-cu12==0.6.2 in /usr/local/lib/python3.11/dist-packages (from torch) (0.6.2)\n",
            "Requirement already satisfied: nvidia-nccl-cu12==2.21.5 in /usr/local/lib/python3.11/dist-packages (from torch) (2.21.5)\n",
            "Requirement already satisfied: nvidia-nvtx-cu12==12.4.127 in /usr/local/lib/python3.11/dist-packages (from torch) (12.4.127)\n",
            "Collecting nvidia-nvjitlink-cu12==12.4.127 (from torch)\n",
            "  Downloading nvidia_nvjitlink_cu12-12.4.127-py3-none-manylinux2014_x86_64.whl.metadata (1.5 kB)\n",
            "Requirement already satisfied: triton==3.2.0 in /usr/local/lib/python3.11/dist-packages (from torch) (3.2.0)\n",
            "Requirement already satisfied: sympy==1.13.1 in /usr/local/lib/python3.11/dist-packages (from torch) (1.13.1)\n",
            "Requirement already satisfied: mpmath<1.4,>=1.1.0 in /usr/local/lib/python3.11/dist-packages (from sympy==1.13.1->torch) (1.3.0)\n",
            "Requirement already satisfied: MarkupSafe>=2.0 in /usr/local/lib/python3.11/dist-packages (from jinja2->torch) (3.0.2)\n",
            "Downloading nvidia_cublas_cu12-12.4.5.8-py3-none-manylinux2014_x86_64.whl (363.4 MB)\n",
            "\u001b[2K   \u001b[90m━━━━━━━━━━━━━━━━━━━━━━━━━━━━━━━━━━━━━━━━\u001b[0m \u001b[32m363.4/363.4 MB\u001b[0m \u001b[31m3.8 MB/s\u001b[0m eta \u001b[36m0:00:00\u001b[0m\n",
            "\u001b[?25hDownloading nvidia_cuda_cupti_cu12-12.4.127-py3-none-manylinux2014_x86_64.whl (13.8 MB)\n",
            "\u001b[2K   \u001b[90m━━━━━━━━━━━━━━━━━━━━━━━━━━━━━━━━━━━━━━━━\u001b[0m \u001b[32m13.8/13.8 MB\u001b[0m \u001b[31m109.5 MB/s\u001b[0m eta \u001b[36m0:00:00\u001b[0m\n",
            "\u001b[?25hDownloading nvidia_cuda_nvrtc_cu12-12.4.127-py3-none-manylinux2014_x86_64.whl (24.6 MB)\n",
            "\u001b[2K   \u001b[90m━━━━━━━━━━━━━━━━━━━━━━━━━━━━━━━━━━━━━━━━\u001b[0m \u001b[32m24.6/24.6 MB\u001b[0m \u001b[31m84.3 MB/s\u001b[0m eta \u001b[36m0:00:00\u001b[0m\n",
            "\u001b[?25hDownloading nvidia_cuda_runtime_cu12-12.4.127-py3-none-manylinux2014_x86_64.whl (883 kB)\n",
            "\u001b[2K   \u001b[90m━━━━━━━━━━━━━━━━━━━━━━━━━━━━━━━━━━━━━━━━\u001b[0m \u001b[32m883.7/883.7 kB\u001b[0m \u001b[31m55.9 MB/s\u001b[0m eta \u001b[36m0:00:00\u001b[0m\n",
            "\u001b[?25hDownloading nvidia_cudnn_cu12-9.1.0.70-py3-none-manylinux2014_x86_64.whl (664.8 MB)\n",
            "\u001b[2K   \u001b[90m━━━━━━━━━━━━━━━━━━━━━━━━━━━━━━━━━━━━━━━━\u001b[0m \u001b[32m664.8/664.8 MB\u001b[0m \u001b[31m2.8 MB/s\u001b[0m eta \u001b[36m0:00:00\u001b[0m\n",
            "\u001b[?25hDownloading nvidia_cufft_cu12-11.2.1.3-py3-none-manylinux2014_x86_64.whl (211.5 MB)\n",
            "\u001b[2K   \u001b[90m━━━━━━━━━━━━━━━━━━━━━━━━━━━━━━━━━━━━━━━━\u001b[0m \u001b[32m211.5/211.5 MB\u001b[0m \u001b[31m5.0 MB/s\u001b[0m eta \u001b[36m0:00:00\u001b[0m\n",
            "\u001b[?25hDownloading nvidia_curand_cu12-10.3.5.147-py3-none-manylinux2014_x86_64.whl (56.3 MB)\n",
            "\u001b[2K   \u001b[90m━━━━━━━━━━━━━━━━━━━━━━━━━━━━━━━━━━━━━━━━\u001b[0m \u001b[32m56.3/56.3 MB\u001b[0m \u001b[31m10.6 MB/s\u001b[0m eta \u001b[36m0:00:00\u001b[0m\n",
            "\u001b[?25hDownloading nvidia_cusolver_cu12-11.6.1.9-py3-none-manylinux2014_x86_64.whl (127.9 MB)\n",
            "\u001b[2K   \u001b[90m━━━━━━━━━━━━━━━━━━━━━━━━━━━━━━━━━━━━━━━━\u001b[0m \u001b[32m127.9/127.9 MB\u001b[0m \u001b[31m7.1 MB/s\u001b[0m eta \u001b[36m0:00:00\u001b[0m\n",
            "\u001b[?25hDownloading nvidia_cusparse_cu12-12.3.1.170-py3-none-manylinux2014_x86_64.whl (207.5 MB)\n",
            "\u001b[2K   \u001b[90m━━━━━━━━━━━━━━━━━━━━━━━━━━━━━━━━━━━━━━━━\u001b[0m \u001b[32m207.5/207.5 MB\u001b[0m \u001b[31m5.2 MB/s\u001b[0m eta \u001b[36m0:00:00\u001b[0m\n",
            "\u001b[?25hDownloading nvidia_nvjitlink_cu12-12.4.127-py3-none-manylinux2014_x86_64.whl (21.1 MB)\n",
            "\u001b[2K   \u001b[90m━━━━━━━━━━━━━━━━━━━━━━━━━━━━━━━━━━━━━━━━\u001b[0m \u001b[32m21.1/21.1 MB\u001b[0m \u001b[31m56.7 MB/s\u001b[0m eta \u001b[36m0:00:00\u001b[0m\n",
            "\u001b[?25hInstalling collected packages: nvidia-nvjitlink-cu12, nvidia-curand-cu12, nvidia-cufft-cu12, nvidia-cuda-runtime-cu12, nvidia-cuda-nvrtc-cu12, nvidia-cuda-cupti-cu12, nvidia-cublas-cu12, nvidia-cusparse-cu12, nvidia-cudnn-cu12, nvidia-cusolver-cu12\n",
            "  Attempting uninstall: nvidia-nvjitlink-cu12\n",
            "    Found existing installation: nvidia-nvjitlink-cu12 12.5.82\n",
            "    Uninstalling nvidia-nvjitlink-cu12-12.5.82:\n",
            "      Successfully uninstalled nvidia-nvjitlink-cu12-12.5.82\n",
            "  Attempting uninstall: nvidia-curand-cu12\n",
            "    Found existing installation: nvidia-curand-cu12 10.3.6.82\n",
            "    Uninstalling nvidia-curand-cu12-10.3.6.82:\n",
            "      Successfully uninstalled nvidia-curand-cu12-10.3.6.82\n",
            "  Attempting uninstall: nvidia-cufft-cu12\n",
            "    Found existing installation: nvidia-cufft-cu12 11.2.3.61\n",
            "    Uninstalling nvidia-cufft-cu12-11.2.3.61:\n",
            "      Successfully uninstalled nvidia-cufft-cu12-11.2.3.61\n",
            "  Attempting uninstall: nvidia-cuda-runtime-cu12\n",
            "    Found existing installation: nvidia-cuda-runtime-cu12 12.5.82\n",
            "    Uninstalling nvidia-cuda-runtime-cu12-12.5.82:\n",
            "      Successfully uninstalled nvidia-cuda-runtime-cu12-12.5.82\n",
            "  Attempting uninstall: nvidia-cuda-nvrtc-cu12\n",
            "    Found existing installation: nvidia-cuda-nvrtc-cu12 12.5.82\n",
            "    Uninstalling nvidia-cuda-nvrtc-cu12-12.5.82:\n",
            "      Successfully uninstalled nvidia-cuda-nvrtc-cu12-12.5.82\n",
            "  Attempting uninstall: nvidia-cuda-cupti-cu12\n",
            "    Found existing installation: nvidia-cuda-cupti-cu12 12.5.82\n",
            "    Uninstalling nvidia-cuda-cupti-cu12-12.5.82:\n",
            "      Successfully uninstalled nvidia-cuda-cupti-cu12-12.5.82\n",
            "  Attempting uninstall: nvidia-cublas-cu12\n",
            "    Found existing installation: nvidia-cublas-cu12 12.5.3.2\n",
            "    Uninstalling nvidia-cublas-cu12-12.5.3.2:\n",
            "      Successfully uninstalled nvidia-cublas-cu12-12.5.3.2\n",
            "  Attempting uninstall: nvidia-cusparse-cu12\n",
            "    Found existing installation: nvidia-cusparse-cu12 12.5.1.3\n",
            "    Uninstalling nvidia-cusparse-cu12-12.5.1.3:\n",
            "      Successfully uninstalled nvidia-cusparse-cu12-12.5.1.3\n",
            "  Attempting uninstall: nvidia-cudnn-cu12\n",
            "    Found existing installation: nvidia-cudnn-cu12 9.3.0.75\n",
            "    Uninstalling nvidia-cudnn-cu12-9.3.0.75:\n",
            "      Successfully uninstalled nvidia-cudnn-cu12-9.3.0.75\n",
            "  Attempting uninstall: nvidia-cusolver-cu12\n",
            "    Found existing installation: nvidia-cusolver-cu12 11.6.3.83\n",
            "    Uninstalling nvidia-cusolver-cu12-11.6.3.83:\n",
            "      Successfully uninstalled nvidia-cusolver-cu12-11.6.3.83\n",
            "Successfully installed nvidia-cublas-cu12-12.4.5.8 nvidia-cuda-cupti-cu12-12.4.127 nvidia-cuda-nvrtc-cu12-12.4.127 nvidia-cuda-runtime-cu12-12.4.127 nvidia-cudnn-cu12-9.1.0.70 nvidia-cufft-cu12-11.2.1.3 nvidia-curand-cu12-10.3.5.147 nvidia-cusolver-cu12-11.6.1.9 nvidia-cusparse-cu12-12.3.1.170 nvidia-nvjitlink-cu12-12.4.127\n",
            "Requirement already satisfied: sentencepiece in /usr/local/lib/python3.11/dist-packages (0.2.0)\n"
          ]
        }
      ],
      "source": [
        "# Install required libraries\n",
        "!pip install transformers\n",
        "!pip install torch\n",
        "!pip install sentencepiece  # For tokenizer compatibility (some GPT-2 variants)\n"
      ]
    },
    {
      "cell_type": "markdown",
      "source": [
        "## 🔌 Load GPT-2 Model and Tokenizer\n",
        "\n",
        "We load the pretrained GPT-2 model (`gpt2`) and its tokenizer using Hugging Face's `transformers` library. This allows us to tokenize input text and generate outputs using GPT-2’s language modeling head.\n"
      ],
      "metadata": {
        "id": "sfD1UrICCVzS"
      }
    },
    {
      "cell_type": "code",
      "source": [
        "from transformers import GPT2Tokenizer, GPT2LMHeadModel\n",
        "\n",
        "tokenizer = GPT2Tokenizer.from_pretrained(\"gpt2\")\n",
        "model = GPT2LMHeadModel.from_pretrained(\"gpt2\")\n",
        "\n",
        "model.eval()"
      ],
      "metadata": {
        "colab": {
          "base_uri": "https://localhost:8080/",
          "height": 834,
          "referenced_widgets": [
            "b60a7abf803846bab1de1af64d65fc6a",
            "90a4b8b78649475b824373ee37e6d963",
            "9e82bc14ed7247cab5bfec5e16290321",
            "3a8477869a4e426a8c5a7c225e663523",
            "e30211b8e41a4baea5fa9ae879da91ef",
            "f76d94e0fd3b44c1ba7cb1dd81529598",
            "e8572c4439b04d6fa4a980be1e5be717",
            "46568b4accc44bbf9f1444584aab5326",
            "718cfc6b850e4e7a8498657e8b8be607",
            "07901cdce70a41218906b9d704509f04",
            "dbfa07dc0b844ef39067866a6c97e88e",
            "31b7ab3f4af8489f9cafe23176b4db7b",
            "c6bd2928bb4c4cc08ff1a17036245772",
            "c440208d70824702b54e23ae6cff7c36",
            "2afb493ea8fc48c6891484e477fd0aa7",
            "9541d81c707b47d18e194bb99d4b150c",
            "9801f25420a849a7a54f7bbfc27f4693",
            "32ca60d4b15f4e5c8c16d5364936bc81",
            "9da57823bedc41388865243217b1e53c",
            "be3dfad80a3c47848922e29299e282db",
            "e4eac66b76d743028b8a54e726efde59",
            "db525292329943f6bf94b36a19b2ac5e",
            "c38d660f1b7d474c8680e0e2bd9aa76d",
            "2e6e4c8a4b4840adbc33812de147d19a",
            "a1a230b0de5d4361bbd94f1fa380f6e4",
            "db28b79b51ef4fe8819b3708aef9b2d5",
            "c5cb875e8a1344c18a49e6d25e85e2bc",
            "54b45517e967447594a6415a9e3b4971",
            "7f87612e7ee149d68d8d110c39a74011",
            "e917c4eef6a54875bc63516ed9fd8ca1",
            "6391738b62ca48df8c56817201139a85",
            "f0c3a82acf3247feabaf77d6e8814d41",
            "92440078a55045328787d2e1e7b9e87c",
            "19aab6cd2c2a49f7b723cf25ef4e60b1",
            "42dace7ed67a48a78b04ca122acc9b58",
            "407e8d75af5749a0bab3d43652644dcc",
            "e4148625a618444a8f2aa1546656572c",
            "bf4e5f3297ee493fb846d4e1cce3702c",
            "be02fbd0b2564a7bb7c058c478c2500e",
            "46a050c799364dd590ba45eeb51b72d1",
            "e2692bd5e66c41b4a19e698d272f9117",
            "378f8833231343a7a43d4fa820878c07",
            "1fa48fd2d1284850978df39ec69d00a6",
            "b114a1629deb44fe94e4bbd70da58b51",
            "f2e6eb969bfa4e5483085533c7dca675",
            "0df6afb1d1f04d6a91eb54a0b7f68031",
            "db4aa26625df46628fe27277a33eed9d",
            "4226cb72eeed44c29ffd24c01ef1e6cc",
            "f6f7b6f0eeaa4ae4aed2a5e8846c755f",
            "616f2024e0784c0a9edd696b41b46360",
            "40aa176c0c794be68565d5d2225c3469",
            "346381b3c15a4feabf8ce1833b1c7c34",
            "99fe3f6fee1848e28b119e92278c308b",
            "1e7f316aca40414488ab4adfe8e0dc84",
            "bbed104623894a6e8aa29e410df9dd38",
            "2740468bc60c4ca485d07d535df13399",
            "b2413c5e15e14fbabf88dce8b2009ef3",
            "f24110b4dd1f43579be5e58de0d4f28a",
            "35e69229615247eeb2ae535bd6c07089",
            "beae06c01f8e4bbdb077519488ba5469",
            "b2cded091cb74e71a2a83069e01f5dff",
            "443ba561af5a4f54bc1c90e3b94ee283",
            "be4a9e4451554384ae61300684052ec5",
            "2b11806033ae43a291b376f016772fe3",
            "0af43ac0490a4dc9a3da44bbc26b078d",
            "6e9dbfeb17c5406ca10b58460967fc35",
            "55d1c53fbe484d28a286a085ae716e82",
            "eab985a4c56e4d4b92cba9f94ccf44dc",
            "e9f99f7c05c74e95be7a611c55e95b96",
            "21a37e4132a34a9b8744a597624e7f88",
            "3ba757851fe841298a0ba2b35f32bbba",
            "e91eccbc7a6649688b2e3bc1cddd29bc",
            "59e184ab16314505aa2955f156bf3bdc",
            "01e56f23b5594ebcb805b61a038d33d9",
            "4c07fdfb702f414483a3e8184b305786",
            "4ad425e607ba4a31b8f169bd5ea2d923",
            "98984c96ef314e2b8d1060bb3113a748"
          ]
        },
        "id": "T6Eabqu7Br04",
        "outputId": "31b303ef-3c53-4328-bd94-8944c6b00635"
      },
      "execution_count": 2,
      "outputs": [
        {
          "output_type": "stream",
          "name": "stderr",
          "text": [
            "/usr/local/lib/python3.11/dist-packages/huggingface_hub/utils/_auth.py:94: UserWarning: \n",
            "The secret `HF_TOKEN` does not exist in your Colab secrets.\n",
            "To authenticate with the Hugging Face Hub, create a token in your settings tab (https://huggingface.co/settings/tokens), set it as secret in your Google Colab and restart your session.\n",
            "You will be able to reuse this secret in all of your notebooks.\n",
            "Please note that authentication is recommended but still optional to access public models or datasets.\n",
            "  warnings.warn(\n"
          ]
        },
        {
          "output_type": "display_data",
          "data": {
            "text/plain": [
              "tokenizer_config.json:   0%|          | 0.00/26.0 [00:00<?, ?B/s]"
            ],
            "application/vnd.jupyter.widget-view+json": {
              "version_major": 2,
              "version_minor": 0,
              "model_id": "b60a7abf803846bab1de1af64d65fc6a"
            }
          },
          "metadata": {}
        },
        {
          "output_type": "display_data",
          "data": {
            "text/plain": [
              "vocab.json:   0%|          | 0.00/1.04M [00:00<?, ?B/s]"
            ],
            "application/vnd.jupyter.widget-view+json": {
              "version_major": 2,
              "version_minor": 0,
              "model_id": "31b7ab3f4af8489f9cafe23176b4db7b"
            }
          },
          "metadata": {}
        },
        {
          "output_type": "display_data",
          "data": {
            "text/plain": [
              "merges.txt:   0%|          | 0.00/456k [00:00<?, ?B/s]"
            ],
            "application/vnd.jupyter.widget-view+json": {
              "version_major": 2,
              "version_minor": 0,
              "model_id": "c38d660f1b7d474c8680e0e2bd9aa76d"
            }
          },
          "metadata": {}
        },
        {
          "output_type": "display_data",
          "data": {
            "text/plain": [
              "tokenizer.json:   0%|          | 0.00/1.36M [00:00<?, ?B/s]"
            ],
            "application/vnd.jupyter.widget-view+json": {
              "version_major": 2,
              "version_minor": 0,
              "model_id": "19aab6cd2c2a49f7b723cf25ef4e60b1"
            }
          },
          "metadata": {}
        },
        {
          "output_type": "display_data",
          "data": {
            "text/plain": [
              "config.json:   0%|          | 0.00/665 [00:00<?, ?B/s]"
            ],
            "application/vnd.jupyter.widget-view+json": {
              "version_major": 2,
              "version_minor": 0,
              "model_id": "f2e6eb969bfa4e5483085533c7dca675"
            }
          },
          "metadata": {}
        },
        {
          "output_type": "display_data",
          "data": {
            "text/plain": [
              "model.safetensors:   0%|          | 0.00/548M [00:00<?, ?B/s]"
            ],
            "application/vnd.jupyter.widget-view+json": {
              "version_major": 2,
              "version_minor": 0,
              "model_id": "2740468bc60c4ca485d07d535df13399"
            }
          },
          "metadata": {}
        },
        {
          "output_type": "display_data",
          "data": {
            "text/plain": [
              "generation_config.json:   0%|          | 0.00/124 [00:00<?, ?B/s]"
            ],
            "application/vnd.jupyter.widget-view+json": {
              "version_major": 2,
              "version_minor": 0,
              "model_id": "55d1c53fbe484d28a286a085ae716e82"
            }
          },
          "metadata": {}
        },
        {
          "output_type": "execute_result",
          "data": {
            "text/plain": [
              "GPT2LMHeadModel(\n",
              "  (transformer): GPT2Model(\n",
              "    (wte): Embedding(50257, 768)\n",
              "    (wpe): Embedding(1024, 768)\n",
              "    (drop): Dropout(p=0.1, inplace=False)\n",
              "    (h): ModuleList(\n",
              "      (0-11): 12 x GPT2Block(\n",
              "        (ln_1): LayerNorm((768,), eps=1e-05, elementwise_affine=True)\n",
              "        (attn): GPT2Attention(\n",
              "          (c_attn): Conv1D(nf=2304, nx=768)\n",
              "          (c_proj): Conv1D(nf=768, nx=768)\n",
              "          (attn_dropout): Dropout(p=0.1, inplace=False)\n",
              "          (resid_dropout): Dropout(p=0.1, inplace=False)\n",
              "        )\n",
              "        (ln_2): LayerNorm((768,), eps=1e-05, elementwise_affine=True)\n",
              "        (mlp): GPT2MLP(\n",
              "          (c_fc): Conv1D(nf=3072, nx=768)\n",
              "          (c_proj): Conv1D(nf=768, nx=3072)\n",
              "          (act): NewGELUActivation()\n",
              "          (dropout): Dropout(p=0.1, inplace=False)\n",
              "        )\n",
              "      )\n",
              "    )\n",
              "    (ln_f): LayerNorm((768,), eps=1e-05, elementwise_affine=True)\n",
              "  )\n",
              "  (lm_head): Linear(in_features=768, out_features=50257, bias=False)\n",
              ")"
            ]
          },
          "metadata": {},
          "execution_count": 2
        }
      ]
    },
    {
      "cell_type": "markdown",
      "source": [
        "## ✏️ Tokenizing the Input Prompt\n",
        "\n",
        "We use GPT-2’s tokenizer to convert a text prompt into input tokens (IDs). These token IDs are what the model understands and uses for generating text.\n"
      ],
      "metadata": {
        "id": "6wg3OQZaGm8Z"
      }
    },
    {
      "cell_type": "code",
      "source": [
        "prompt_text = \"The future of artificial intelligence is\"\n",
        "input_ids = tokenizer.encode(prompt_text, return_tensors=\"pt\")\n",
        "print(\"Input Token IDs:\", input_ids)\n",
        "print(\"Decoded Text:\", tokenizer.decode(input_ids[0]))\n"
      ],
      "metadata": {
        "colab": {
          "base_uri": "https://localhost:8080/"
        },
        "id": "QYKJ-dEAGoew",
        "outputId": "3cb02a47-801f-4b7a-8871-b5be4227c655"
      },
      "execution_count": 3,
      "outputs": [
        {
          "output_type": "stream",
          "name": "stdout",
          "text": [
            "Input Token IDs: tensor([[  464,  2003,   286, 11666,  4430,   318]])\n",
            "Decoded Text: The future of artificial intelligence is\n"
          ]
        }
      ]
    },
    {
      "cell_type": "markdown",
      "source": [
        "## 🚀 Step 6: Text Generation with Greedy Decoding\n",
        "\n",
        "Now that we've tokenized the input, we use GPT-2 to generate text. Greedy decoding selects the most likely next token at each step, making the generation fast and deterministic. However, it may lack creativity and diversity.\n"
      ],
      "metadata": {
        "id": "3A_0GqVrLrmU"
      }
    },
    {
      "cell_type": "code",
      "source": [
        "greedy_output = model.generate(\n",
        "    input_ids,\n",
        "    max_length = 50,\n",
        "    do_sample = False,\n",
        "    pad_token_id=tokenizer.eos_token_id\n",
        ")\n",
        "\n",
        "output_text = tokenizer.decode(greedy_output[0], skip_special_tokens=True)\n",
        "\n",
        "print(\"generated text (Greedy):\")\n",
        "print(output_text)"
      ],
      "metadata": {
        "colab": {
          "base_uri": "https://localhost:8080/"
        },
        "id": "HEYarLY0JgR0",
        "outputId": "994d3413-d10e-491a-fbfa-4be37cd4f8d7"
      },
      "execution_count": 6,
      "outputs": [
        {
          "output_type": "stream",
          "name": "stdout",
          "text": [
            "generated text (Greedy):\n",
            "The future of artificial intelligence is uncertain.\n",
            "\n",
            "\"We're not sure what the future will look like,\" said Dr. Michael S. Schoenfeld, a professor of computer science at the University of California, Berkeley. \"But we're not\n"
          ]
        }
      ]
    },
    {
      "cell_type": "markdown",
      "source": [
        "## 🔥 Step 7: Sampling-Based Decoding with Temperature\n",
        "\n",
        "Greedy decoding always chooses the most probable next token, which often leads to repetitive or dull outputs. In contrast, sampling introduces controlled randomness. The `temperature` parameter adjusts how \"risky\" or creative the model can be:\n",
        "- `temperature = 1.0` → baseline randomness\n",
        "- `< 1.0` → more conservative (safer)\n",
        "- `> 1.0` → more creative or wild\n",
        "\n",
        "Sampling helps generate diverse and more human-like completions.\n"
      ],
      "metadata": {
        "id": "cFnWjgPQNevO"
      }
    },
    {
      "cell_type": "code",
      "source": [
        "sample_output = model.generate(\n",
        "    input_ids,\n",
        "    max_length = 50,\n",
        "    do_sample = True,\n",
        "    temperature = 0.9,\n",
        "    top_k = 0,\n",
        "    pad_token_id=tokenizer.eos_token_id\n",
        ")\n",
        "\n",
        "sampled_text = tokenizer.decode(sample_output[0], skip_special_tokens=True)\n",
        "\n",
        "print(\"🔹 Generated Text (Sampling, Temperature=0.9):\")\n",
        "print(sampled_text)"
      ],
      "metadata": {
        "colab": {
          "base_uri": "https://localhost:8080/"
        },
        "id": "LUrCiXrkLonM",
        "outputId": "659f0bd9-8979-45f3-96ca-2a071347840e"
      },
      "execution_count": 10,
      "outputs": [
        {
          "output_type": "stream",
          "name": "stdout",
          "text": [
            "🔹 Generated Text (Sampling, Temperature=0.9):\n",
            "The future of artificial intelligence is extremely bright Saunders writes of his experience that it's \"a new kind of list, and in no time, they will be able to gather themselves and integrate it up\".\n",
            "\n",
            "The might of that class of AI that\n"
          ]
        }
      ]
    },
    {
      "cell_type": "markdown",
      "source": [
        "🔄 Summary of Sampling Temperatures:\n",
        "\n",
        "Temperature\tOutput Style\n",
        "\n",
        "0.7\tSafe, controlled creativity\n",
        "\n",
        "0.9\tBalanced, human-like\n",
        "\n",
        "1.2+\tBold, poetic, or chaotic"
      ],
      "metadata": {
        "id": "JcE8w5twT2S-"
      }
    },
    {
      "cell_type": "markdown",
      "source": [
        "## 🎯 Step 8: Top-k Sampling\n",
        "\n",
        "Top-k sampling limits the model’s randomness by selecting from only the top `k` most probable next tokens. Instead of considering the full vocabulary, GPT-2 samples from the best `k` choices. This prevents low-quality or strange outputs while still allowing for diversity and creativity.\n",
        "\n",
        "- `k=50` is a good balance between creativity and control.\n",
        "- Smaller `k` means safer, more focused text.\n"
      ],
      "metadata": {
        "id": "7MDUqo2HUy9k"
      }
    },
    {
      "cell_type": "code",
      "source": [
        "# 🎯 Generate text using Top-k sampling\n",
        "topk_output = model.generate(\n",
        "    input_ids,\n",
        "    max_length=50,\n",
        "    do_sample=True,           # Enable sampling\n",
        "    top_k=50,                 # Only consider top 50 tokens\n",
        "    temperature=0.9,          # Control creativity\n",
        "    pad_token_id=tokenizer.eos_token_id\n",
        ")\n",
        "\n",
        "# Decode and print\n",
        "topk_text = tokenizer.decode(topk_output[0], skip_special_tokens=True)\n",
        "\n",
        "print(\"🔹 Generated Text (Top-k Sampling, k=50):\")\n",
        "print(topk_text)\n"
      ],
      "metadata": {
        "colab": {
          "base_uri": "https://localhost:8080/"
        },
        "id": "1MX8RBZsS1a-",
        "outputId": "502afbf8-2bc4-498d-d28b-390d186f51ff"
      },
      "execution_count": 11,
      "outputs": [
        {
          "output_type": "stream",
          "name": "stdout",
          "text": [
            "🔹 Generated Text (Top-k Sampling, k=50):\n",
            "The future of artificial intelligence is also on the rise.\n",
            "\n",
            "But even before we can get there, it is needed to start thinking critically about the ways in which this is not just one of the most important and rapidly growing industries. For more than\n"
          ]
        }
      ]
    },
    {
      "cell_type": "markdown",
      "source": [
        "![image.png](data:image/png;base64,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)"
      ],
      "metadata": {
        "id": "Q12E1nZHVeF-"
      }
    },
    {
      "cell_type": "markdown",
      "source": [
        "## 🧠 Step 9: Top-p (Nucleus) Sampling\n",
        "\n",
        "Top-p sampling, also called nucleus sampling, selects the smallest set of tokens whose **cumulative probability ≥ p** (e.g., 90%). This dynamic filtering allows the model to sample only from the most meaningful tokens, regardless of how many that is.\n",
        "\n",
        "- Unlike Top-k (fixed number), Top-p adapts per step.\n",
        "- Combines creativity and contextual relevance better than basic sampling.\n"
      ],
      "metadata": {
        "id": "c8ggc47wVpVx"
      }
    },
    {
      "cell_type": "code",
      "source": [
        "# 🧠 Generate text using Top-p (nucleus) sampling\n",
        "topp_output = model.generate(\n",
        "    input_ids,\n",
        "    max_length=50,\n",
        "    do_sample=True,\n",
        "    top_p=0.9,                 # Cumulative probability threshold\n",
        "    temperature=0.9,           # Optional: still controls creativity\n",
        "    pad_token_id=tokenizer.eos_token_id\n",
        ")\n",
        "\n",
        "# Decode and print\n",
        "topp_text = tokenizer.decode(topp_output[0], skip_special_tokens=True)\n",
        "\n",
        "print(\"🔹 Generated Text (Top-p Sampling, p=0.9):\")\n",
        "print(topp_text)\n"
      ],
      "metadata": {
        "colab": {
          "base_uri": "https://localhost:8080/"
        },
        "id": "hpOeHF51U_nC",
        "outputId": "1fcca536-3f68-4268-c81c-a794e76bceb8"
      },
      "execution_count": 12,
      "outputs": [
        {
          "output_type": "stream",
          "name": "stdout",
          "text": [
            "🔹 Generated Text (Top-p Sampling, p=0.9):\n",
            "The future of artificial intelligence is on the verge of exploding.\"\n",
            "\n",
            "In the meantime, some AI researchers are already working on ways to detect and fix problems that can't be solved by machine learning. In 2012, researchers at the University of Nottingham in\n"
          ]
        }
      ]
    },
    {
      "cell_type": "markdown",
      "source": [
        "![image.png](data:image/png;base64,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)"
      ],
      "metadata": {
        "id": "qIommTyPWZWY"
      }
    },
    {
      "cell_type": "markdown",
      "source": [
        "## 🧾 Step 10: Comparing All Decoding Strategies\n",
        "\n",
        "Let’s compare the outputs from all four decoding strategies: Greedy, Sampling, Top-k, and Top-p. Each method controls how the next token is selected, balancing between consistency, creativity, and coherence.\n",
        "\n",
        "| Strategy     | Output Summary | Strengths | Weaknesses |\n",
        "|--------------|----------------|-----------|------------|\n",
        "| Greedy       | Always picks the top token → tends to repeat or feel dull | Fast, reproducible | Can get stuck, lacks creativity |\n",
        "| Sampling     | Randomly picks next token based on probability | Adds variety and realism | Can lose coherence at high temperature |\n",
        "| Top-k        | Samples from top 50 probable tokens | Good balance of logic + creativity | Fixed k may miss rare but relevant tokens |\n",
        "| Top-p        | Samples from dynamic set covering 90% probability | Most natural and human-like | Slightly slower, but smarter |\n"
      ],
      "metadata": {
        "id": "ca7C_WtKWnuV"
      }
    },
    {
      "cell_type": "code",
      "source": [
        "print(\"🔹 Greedy Decoding:\\n\", output_text)\n",
        "print(\"\\n🔹 Sampling (temp=0.9):\\n\", sampled_text)\n",
        "print(\"\\n🔹 Top-k Sampling (k=50):\\n\", topk_text)\n",
        "print(\"\\n🔹 Top-p Sampling (p=0.9):\\n\", topp_text)\n"
      ],
      "metadata": {
        "colab": {
          "base_uri": "https://localhost:8080/"
        },
        "id": "UdrczxpQV6Ll",
        "outputId": "a81bb3a7-102c-47f2-ec96-0917cb6d3223"
      },
      "execution_count": 13,
      "outputs": [
        {
          "output_type": "stream",
          "name": "stdout",
          "text": [
            "🔹 Greedy Decoding:\n",
            " The future of artificial intelligence is uncertain.\n",
            "\n",
            "\"We're not sure what the future will look like,\" said Dr. Michael S. Schoenfeld, a professor of computer science at the University of California, Berkeley. \"But we're not\n",
            "\n",
            "🔹 Sampling (temp=0.9):\n",
            " The future of artificial intelligence is extremely bright Saunders writes of his experience that it's \"a new kind of list, and in no time, they will be able to gather themselves and integrate it up\".\n",
            "\n",
            "The might of that class of AI that\n",
            "\n",
            "🔹 Top-k Sampling (k=50):\n",
            " The future of artificial intelligence is also on the rise.\n",
            "\n",
            "But even before we can get there, it is needed to start thinking critically about the ways in which this is not just one of the most important and rapidly growing industries. For more than\n",
            "\n",
            "🔹 Top-p Sampling (p=0.9):\n",
            " The future of artificial intelligence is on the verge of exploding.\"\n",
            "\n",
            "In the meantime, some AI researchers are already working on ways to detect and fix problems that can't be solved by machine learning. In 2012, researchers at the University of Nottingham in\n"
          ]
        }
      ]
    },
    {
      "cell_type": "markdown",
      "source": [
        "# ✏️ Section 2: Prompt Engineering & Output Control\n",
        "\n",
        "In this section, we explore how GPT-2 responds to different styles of prompts and how output can be controlled using `max_length`, `min_length`, and formatting. This helps us understand GPT-2’s behavior across question-answering, story generation, summaries, and dialogue formats.\n"
      ],
      "metadata": {
        "id": "G7ETjLmmXMpi"
      }
    },
    {
      "cell_type": "markdown",
      "source": [
        "## 🧪 Step 1: Experiment with Prompt Styles\n",
        "\n",
        "GPT-2 is highly sensitive to the prompt style. A small change in phrasing can significantly shift the tone, structure, and focus of the generated text. In this step, we try different types of prompts:\n",
        "- Instructional\n",
        "- Storytelling\n",
        "- Dialogue\n",
        "- Question/Answer\n",
        "\n",
        "We'll generate text for each and observe how GPT-2 adapts.\n"
      ],
      "metadata": {
        "id": "a7Xl4sauXYkL"
      }
    },
    {
      "cell_type": "code",
      "source": [
        "# Define a reusable generation function\n",
        "def generate_response(prompt, max_length=60):\n",
        "    input_ids = tokenizer.encode(prompt, return_tensors=\"pt\")\n",
        "    output_ids = model.generate(\n",
        "        input_ids,\n",
        "        max_length=max_length,\n",
        "        do_sample=True,\n",
        "        top_p=0.9,\n",
        "        temperature=0.9,\n",
        "        pad_token_id=tokenizer.eos_token_id\n",
        "    )\n",
        "    return tokenizer.decode(output_ids[0], skip_special_tokens=True)\n"
      ],
      "metadata": {
        "id": "Jik_alQnWwL6"
      },
      "execution_count": 15,
      "outputs": []
    },
    {
      "cell_type": "code",
      "source": [
        "instructional_prompt = \"Write a short paragraph about the importance of sleep.\"\n",
        "instructional_output = generate_response(instructional_prompt)\n",
        "print(\"🧠 Instructional Output:\\n\", instructional_output)\n"
      ],
      "metadata": {
        "colab": {
          "base_uri": "https://localhost:8080/"
        },
        "id": "3Ik7PYOPXx4-",
        "outputId": "00b1ffc6-9e27-4f7c-f5cf-7ba4451aaa3f"
      },
      "execution_count": 16,
      "outputs": [
        {
          "output_type": "stream",
          "name": "stdout",
          "text": [
            "🧠 Instructional Output:\n",
            " Write a short paragraph about the importance of sleep.\n",
            "\n",
            "A person is in a position to experience the full spectrum of feelings and experiences. They can learn to tolerate and express them as if they were the source of the feelings, sensations and experiences that are contained within.\n",
            "\n",
            "They can learn to\n"
          ]
        }
      ]
    },
    {
      "cell_type": "code",
      "source": [
        "story_prompt = \"Once upon a time in a world ruled by machines,\"\n",
        "story_output = generate_response(story_prompt)\n",
        "print(\"📖 Storytelling Output:\\n\", story_output)\n"
      ],
      "metadata": {
        "colab": {
          "base_uri": "https://localhost:8080/"
        },
        "id": "Z6-2ZPYOYCfP",
        "outputId": "d3177d06-e48d-45b6-93d5-58ecd23c8c8d"
      },
      "execution_count": 19,
      "outputs": [
        {
          "output_type": "stream",
          "name": "stdout",
          "text": [
            "📖 Storytelling Output:\n",
            " Once upon a time in a world ruled by machines, there was a man who was a genius. His name was James Bond. He was the creator of the atomic bomb. He invented the world's first nuclear weapon. He invented the universe's first black hole. He invented the sun's motion.\n"
          ]
        }
      ]
    },
    {
      "cell_type": "code",
      "source": [
        "dialogue_prompt = \"Human: What do you think about climate change?\\nAI:\"\n",
        "dialogue_output = generate_response(dialogue_prompt)\n",
        "print(\"💬 Dialogue Output:\\n\", dialogue_output)\n"
      ],
      "metadata": {
        "colab": {
          "base_uri": "https://localhost:8080/"
        },
        "id": "qz_knsOWX_7j",
        "outputId": "1bc8e337-a43b-43da-8534-4a0eeac51fd9"
      },
      "execution_count": 18,
      "outputs": [
        {
          "output_type": "stream",
          "name": "stdout",
          "text": [
            "💬 Dialogue Output:\n",
            " Human: What do you think about climate change?\n",
            "AI: I think we need to be thinking about all things, not just science. Science has always been about the fundamental question, \"What do we know about climate change?\" Now, I think there's a lot of data to be made about\n"
          ]
        }
      ]
    },
    {
      "cell_type": "code",
      "source": [
        "qa_prompt = \"Q: What is the capital of Japan?\\nA:\"\n",
        "qa_output = generate_response(qa_prompt)\n",
        "print(\"❓ Q&A Output:\\n\", qa_output)\n"
      ],
      "metadata": {
        "colab": {
          "base_uri": "https://localhost:8080/"
        },
        "id": "1KLdmQm5X3ag",
        "outputId": "920db7b9-505b-4976-c8bc-6d825f7966d5"
      },
      "execution_count": 17,
      "outputs": [
        {
          "output_type": "stream",
          "name": "stdout",
          "text": [
            "❓ Q&A Output:\n",
            " Q: What is the capital of Japan?\n",
            "A: The capital of Japan is Nippon Professional Baseball. It was founded in 1929 as the first professional baseball franchise in the world. Since its inception, Nippon Professional Baseball has won 23 World Series and the World Championship and won 11 World\n"
          ]
        }
      ]
    },
    {
      "cell_type": "markdown",
      "source": [
        "![image.png](data:image/png;base64,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)"
      ],
      "metadata": {
        "id": "Ijt9wciGY1D8"
      }
    },
    {
      "cell_type": "markdown",
      "source": [
        "## ✅ Observations from Prompt Styles\n",
        "\n",
        "GPT-2’s responses vary significantly based on prompt phrasing. While storytelling and dialogue formats work well stylistically, factual accuracy (especially in Q&A) is unreliable. This emphasizes the importance of choosing prompts carefully depending on your use case.\n"
      ],
      "metadata": {
        "id": "l8ml9GU-Y5iG"
      }
    },
    {
      "cell_type": "markdown",
      "source": [
        "## 📏 Step 2: Controlling Output Length\n",
        "\n",
        "By default, GPT-2 continues generating until the max length is reached or it hits an EOS (end-of-sequence) token. To control this behavior, we use:\n",
        "- `max_length`: Total length of input + output tokens\n",
        "- `min_length`: Forces GPT-2 to continue at least this many tokens\n",
        "\n",
        "This helps us prevent early stopping or excessive generation.\n"
      ],
      "metadata": {
        "id": "IsifQ2fyZP0J"
      }
    },
    {
      "cell_type": "code",
      "source": [
        "prompt = \"Explain the role of machine learning in healthcare.\"\n",
        "\n",
        "# Generate with length control\n",
        "length_control_output = model.generate(\n",
        "    tokenizer.encode(prompt, return_tensors=\"pt\"),\n",
        "    do_sample=True,\n",
        "    top_p=0.9,\n",
        "    temperature=0.9,\n",
        "    min_length=60,          # Force at least 60 tokens\n",
        "    max_length=80,          # Stop at 80 tokens\n",
        "    pad_token_id=tokenizer.eos_token_id\n",
        ")\n",
        "\n",
        "# Decode and print\n",
        "print(tokenizer.decode(length_control_output[0], skip_special_tokens=True))\n"
      ],
      "metadata": {
        "colab": {
          "base_uri": "https://localhost:8080/"
        },
        "id": "SNJ2zC6sX6nf",
        "outputId": "943636d6-39ba-478f-ed52-2654e166806b"
      },
      "execution_count": 20,
      "outputs": [
        {
          "output_type": "stream",
          "name": "stdout",
          "text": [
            "Explain the role of machine learning in healthcare.\n",
            "\n",
            "In order to build our next platform, we need to understand what it takes to make sure that machine learning is fully integrated into the healthcare system. This includes training our developers to be experts on machine learning, and to be able to make improvements in their code.\n",
            "\n",
            "As you will see, this is an important step in learning about machine\n"
          ]
        }
      ]
    },
    {
      "cell_type": "markdown",
      "source": [
        "## ✅ Observations on Output Length Control\n",
        "\n",
        "Using `min_length` ensures the model doesn't stop too early, while `max_length` prevents overly long or rambling outputs. For most paragraph-sized outputs, a range of 60–100 tokens works well. Always experiment with both values when tuning output quality and completeness.\n"
      ],
      "metadata": {
        "id": "9b2OoxxwZizL"
      }
    },
    {
      "cell_type": "code",
      "source": [],
      "metadata": {
        "id": "RhNJP_ewZSDp"
      },
      "execution_count": null,
      "outputs": []
    }
  ]
}